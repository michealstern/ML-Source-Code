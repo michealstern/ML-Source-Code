{
 "cells": [
  {
   "cell_type": "code",
   "execution_count": 420,
   "id": "c5efdb6d-75d0-42b1-ac1e-5234483a1f18",
   "metadata": {},
   "outputs": [],
   "source": [
    "import pandas as pd"
   ]
  },
  {
   "cell_type": "code",
   "execution_count": 421,
   "id": "38fa1818-764e-4339-a091-eba8e15b6068",
   "metadata": {},
   "outputs": [
    {
     "data": {
      "text/html": [
       "<div>\n",
       "<style scoped>\n",
       "    .dataframe tbody tr th:only-of-type {\n",
       "        vertical-align: middle;\n",
       "    }\n",
       "\n",
       "    .dataframe tbody tr th {\n",
       "        vertical-align: top;\n",
       "    }\n",
       "\n",
       "    .dataframe thead th {\n",
       "        text-align: right;\n",
       "    }\n",
       "</style>\n",
       "<table border=\"1\" class=\"dataframe\">\n",
       "  <thead>\n",
       "    <tr style=\"text-align: right;\">\n",
       "      <th></th>\n",
       "      <th>car_name</th>\n",
       "      <th>car_price_in_rupee</th>\n",
       "      <th>kms_driven</th>\n",
       "      <th>fuel_type</th>\n",
       "      <th>ownership</th>\n",
       "      <th>engine</th>\n",
       "      <th>Seats</th>\n",
       "      <th>manufacture</th>\n",
       "    </tr>\n",
       "  </thead>\n",
       "  <tbody>\n",
       "    <tr>\n",
       "      <th>0</th>\n",
       "      <td>Jeep Compass 2.0 Langitude Option BSIV</td>\n",
       "      <td>10.03 Lakh</td>\n",
       "      <td>86,226 kms</td>\n",
       "      <td>Diesel</td>\n",
       "      <td>1st Owner</td>\n",
       "      <td>1956 cc</td>\n",
       "      <td>5 Seats</td>\n",
       "      <td>January 7, 2018</td>\n",
       "    </tr>\n",
       "    <tr>\n",
       "      <th>1</th>\n",
       "      <td>Renault Duster RXZ Turbo CVT</td>\n",
       "      <td>12.83 Lakh</td>\n",
       "      <td>13,248 kms</td>\n",
       "      <td>Petrol</td>\n",
       "      <td>1st Owner</td>\n",
       "      <td>1330 cc</td>\n",
       "      <td>5 Seats</td>\n",
       "      <td>January 15, 2018</td>\n",
       "    </tr>\n",
       "    <tr>\n",
       "      <th>2</th>\n",
       "      <td>BMW X1 sDrive 20d xLine</td>\n",
       "      <td>60.30 Lakh</td>\n",
       "      <td>60,343 kms</td>\n",
       "      <td>Petrol</td>\n",
       "      <td>1st Owner</td>\n",
       "      <td>2494 cc</td>\n",
       "      <td>5 Seats</td>\n",
       "      <td>August 1, 2018</td>\n",
       "    </tr>\n",
       "    <tr>\n",
       "      <th>3</th>\n",
       "      <td>Toyota Camry 2.5 G</td>\n",
       "      <td>9.43 Lakh</td>\n",
       "      <td>26,216 kms</td>\n",
       "      <td>Petrol</td>\n",
       "      <td>2nd Owner</td>\n",
       "      <td>1199 cc</td>\n",
       "      <td>5 Seats</td>\n",
       "      <td>June 8, 2018</td>\n",
       "    </tr>\n",
       "    <tr>\n",
       "      <th>4</th>\n",
       "      <td>Honda WR-V VX Diesel</td>\n",
       "      <td>75,000</td>\n",
       "      <td>69,126 kms</td>\n",
       "      <td>Petrol</td>\n",
       "      <td>2nd Owner</td>\n",
       "      <td>1199 cc</td>\n",
       "      <td>5 Seats</td>\n",
       "      <td>June 20, 2018</td>\n",
       "    </tr>\n",
       "    <tr>\n",
       "      <th>5</th>\n",
       "      <td>Maruti Baleno 1.2 Alpha</td>\n",
       "      <td>11.30 Lakh</td>\n",
       "      <td>49,654 kms</td>\n",
       "      <td>Diesel</td>\n",
       "      <td>2nd Owner</td>\n",
       "      <td>1197 cc</td>\n",
       "      <td>5 Seats</td>\n",
       "      <td>April 26, 2018</td>\n",
       "    </tr>\n",
       "    <tr>\n",
       "      <th>6</th>\n",
       "      <td>BMW 7 Series 730LD</td>\n",
       "      <td>75.10 Lakh</td>\n",
       "      <td>43,226 kms</td>\n",
       "      <td>Diesel</td>\n",
       "      <td>3rd Owner</td>\n",
       "      <td>1498 cc</td>\n",
       "      <td>5 Seats</td>\n",
       "      <td>June 13, 2018</td>\n",
       "    </tr>\n",
       "    <tr>\n",
       "      <th>7</th>\n",
       "      <td>Jaguar XF 2.2 Litre Luxury</td>\n",
       "      <td>1.02 Crore</td>\n",
       "      <td>14,126 kms</td>\n",
       "      <td>Petrol</td>\n",
       "      <td>3rd Owner</td>\n",
       "      <td>1368 cc</td>\n",
       "      <td>5 Seats</td>\n",
       "      <td>March 11, 2018</td>\n",
       "    </tr>\n",
       "  </tbody>\n",
       "</table>\n",
       "</div>"
      ],
      "text/plain": [
       "                                 car_name car_price_in_rupee  kms_driven  \\\n",
       "0  Jeep Compass 2.0 Langitude Option BSIV         10.03 Lakh  86,226 kms   \n",
       "1            Renault Duster RXZ Turbo CVT         12.83 Lakh  13,248 kms   \n",
       "2                 BMW X1 sDrive 20d xLine         60.30 Lakh  60,343 kms   \n",
       "3                      Toyota Camry 2.5 G          9.43 Lakh  26,216 kms   \n",
       "4                    Honda WR-V VX Diesel             75,000  69,126 kms   \n",
       "5                 Maruti Baleno 1.2 Alpha         11.30 Lakh  49,654 kms   \n",
       "6                      BMW 7 Series 730LD         75.10 Lakh  43,226 kms   \n",
       "7              Jaguar XF 2.2 Litre Luxury         1.02 Crore  14,126 kms   \n",
       "\n",
       "  fuel_type  ownership   engine    Seats       manufacture  \n",
       "0    Diesel  1st Owner  1956 cc  5 Seats   January 7, 2018  \n",
       "1    Petrol  1st Owner  1330 cc  5 Seats  January 15, 2018  \n",
       "2    Petrol  1st Owner  2494 cc  5 Seats    August 1, 2018  \n",
       "3    Petrol  2nd Owner  1199 cc  5 Seats      June 8, 2018  \n",
       "4    Petrol  2nd Owner  1199 cc  5 Seats     June 20, 2018  \n",
       "5    Diesel  2nd Owner  1197 cc  5 Seats    April 26, 2018  \n",
       "6    Diesel  3rd Owner  1498 cc  5 Seats     June 13, 2018  \n",
       "7    Petrol  3rd Owner  1368 cc  5 Seats    March 11, 2018  "
      ]
     },
     "execution_count": 421,
     "metadata": {},
     "output_type": "execute_result"
    }
   ],
   "source": [
    "data = {'car_name': ['Jeep Compass 2.0 Langitude Option BSIV', 'Renault Duster RXZ Turbo CVT', 'BMW X1 sDrive 20d xLine',\n",
    "                    'Toyota Camry 2.5 G', 'Honda WR-V VX Diesel', 'Maruti Baleno 1.2 Alpha', 'BMW 7 Series 730LD',\n",
    "                    'Jaguar XF 2.2 Litre Luxury'],\n",
    "       'car_price_in_rupee': ['10.03 Lakh', '12.83 Lakh', '60.30 Lakh', '9.43 Lakh',\n",
    "                              '75,000', '11.30 Lakh', '75.10 Lakh', '1.02 Crore'],\n",
    "       'kms_driven': ['86,226 kms', '13,248 kms', '60,343 kms', '26,216 kms',\n",
    "                      '69,126 kms', '49,654 kms', '43,226 kms', '14,126 kms'],\n",
    "       'fuel_type': ['Diesel', 'Petrol','Petrol','Petrol','Petrol','Diesel','Diesel','Petrol'],\n",
    "       'ownership': ['1st Owner', '1st Owner', '1st Owner', '2nd Owner', \n",
    "                     '2nd Owner', '2nd Owner', '3rd Owner', '3rd Owner',],\n",
    "       'engine': ['1956 cc', '1330 cc', '2494 cc', '1199 cc', '1199 cc', \n",
    "                  '1197 cc', '1498 cc', '1368 cc'],\n",
    "       'Seats': ['5 Seats', '5 Seats', '5 Seats', '5 Seats', '5 Seats',\n",
    "                 '5 Seats', '5 Seats', '5 Seats'],\n",
    "       'manufacture': ['January 7, 2018', 'January 15, 2018', 'August 1, 2018', 'June 8, 2018', \n",
    "                       'June 20, 2018', 'April 26, 2018', 'June 13, 2018', 'March 11, 2018']}\n",
    "df = pd.DataFrame(data)\n",
    "df"
   ]
  },
  {
   "cell_type": "code",
   "execution_count": 422,
   "id": "8954d3fb-040f-4fea-b204-00fa1bd4ee3b",
   "metadata": {},
   "outputs": [
    {
     "name": "stdout",
     "output_type": "stream",
     "text": [
      "<class 'pandas.core.frame.DataFrame'>\n",
      "RangeIndex: 8 entries, 0 to 7\n",
      "Data columns (total 8 columns):\n",
      " #   Column              Non-Null Count  Dtype \n",
      "---  ------              --------------  ----- \n",
      " 0   car_name            8 non-null      object\n",
      " 1   car_price_in_rupee  8 non-null      object\n",
      " 2   kms_driven          8 non-null      object\n",
      " 3   fuel_type           8 non-null      object\n",
      " 4   ownership           8 non-null      object\n",
      " 5   engine              8 non-null      object\n",
      " 6   Seats               8 non-null      object\n",
      " 7   manufacture         8 non-null      object\n",
      "dtypes: object(8)\n",
      "memory usage: 644.0+ bytes\n"
     ]
    }
   ],
   "source": [
    "df.info()"
   ]
  },
  {
   "cell_type": "markdown",
   "id": "636654ae-f5af-4adc-9456-d50659981585",
   "metadata": {},
   "source": [
    "# Car_name"
   ]
  },
  {
   "cell_type": "code",
   "execution_count": 423,
   "id": "4cd64ab6-c09c-4bdd-a3dc-7fc4e6a6fe52",
   "metadata": {},
   "outputs": [
    {
     "data": {
      "text/plain": [
       "0    Jeep Compass 2.0 Langitude Option BSIV\n",
       "1              Renault Duster RXZ Turbo CVT\n",
       "2                   BMW X1 sDrive 20d xLine\n",
       "3                        Toyota Camry 2.5 G\n",
       "4                      Honda WR-V VX Diesel\n",
       "5                   Maruti Baleno 1.2 Alpha\n",
       "6                        BMW 7 Series 730LD\n",
       "7                Jaguar XF 2.2 Litre Luxury\n",
       "Name: car_name, dtype: object"
      ]
     },
     "execution_count": 423,
     "metadata": {},
     "output_type": "execute_result"
    }
   ],
   "source": [
    "df['car_name']"
   ]
  },
  {
   "cell_type": "code",
   "execution_count": 424,
   "id": "ffc45fbe-de90-45a1-b3d5-9df3bb3eebb4",
   "metadata": {},
   "outputs": [
    {
     "data": {
      "text/plain": [
       "'Jeep Compass 2.0 Langitude Option BSIV'"
      ]
     },
     "execution_count": 424,
     "metadata": {},
     "output_type": "execute_result"
    }
   ],
   "source": [
    "df['car_name'][0]"
   ]
  },
  {
   "cell_type": "code",
   "execution_count": 425,
   "id": "19a5adbe-e1c2-4ef6-b44b-395213ba00b3",
   "metadata": {},
   "outputs": [
    {
     "data": {
      "text/plain": [
       "4"
      ]
     },
     "execution_count": 425,
     "metadata": {},
     "output_type": "execute_result"
    }
   ],
   "source": [
    "x = df['car_name'][0]\n",
    "x.index(\" \")"
   ]
  },
  {
   "cell_type": "code",
   "execution_count": 426,
   "id": "54bb96ca-a4a4-4fd6-a41b-555e5293febb",
   "metadata": {},
   "outputs": [
    {
     "data": {
      "text/plain": [
       "'Jeep'"
      ]
     },
     "execution_count": 426,
     "metadata": {},
     "output_type": "execute_result"
    }
   ],
   "source": [
    "x[:x.index(\" \")]"
   ]
  },
  {
   "cell_type": "code",
   "execution_count": 427,
   "id": "8d7ed400-f534-48bb-86cb-ca6684b461b3",
   "metadata": {},
   "outputs": [],
   "source": [
    "# This function extracts the company name from a string x by taking all the characters before the first space (\" \").\n",
    "# The x.index(\" \") finds the index of the first space in the string.\n",
    "\n",
    "def company_name(x):\n",
    "    return x[:x.index(\" \")]"
   ]
  },
  {
   "cell_type": "code",
   "execution_count": 428,
   "id": "361fdd34-d74b-4c07-81ff-e945f6113fe2",
   "metadata": {},
   "outputs": [
    {
     "data": {
      "text/plain": [
       "0       Jeep\n",
       "1    Renault\n",
       "2        BMW\n",
       "3     Toyota\n",
       "4      Honda\n",
       "5     Maruti\n",
       "6        BMW\n",
       "7     Jaguar\n",
       "Name: car_name, dtype: object"
      ]
     },
     "execution_count": 428,
     "metadata": {},
     "output_type": "execute_result"
    }
   ],
   "source": [
    "df['car_name'].apply(company_name)"
   ]
  },
  {
   "cell_type": "code",
   "execution_count": 429,
   "id": "02ae0d15-4032-49ba-ada4-0601477648a3",
   "metadata": {},
   "outputs": [],
   "source": [
    "df['Company_name'] = df['car_name'].apply(company_name)"
   ]
  },
  {
   "cell_type": "code",
   "execution_count": 430,
   "id": "01d2d009-a6fa-44b7-8b54-0c2dbd8c91aa",
   "metadata": {},
   "outputs": [
    {
     "data": {
      "text/html": [
       "<div>\n",
       "<style scoped>\n",
       "    .dataframe tbody tr th:only-of-type {\n",
       "        vertical-align: middle;\n",
       "    }\n",
       "\n",
       "    .dataframe tbody tr th {\n",
       "        vertical-align: top;\n",
       "    }\n",
       "\n",
       "    .dataframe thead th {\n",
       "        text-align: right;\n",
       "    }\n",
       "</style>\n",
       "<table border=\"1\" class=\"dataframe\">\n",
       "  <thead>\n",
       "    <tr style=\"text-align: right;\">\n",
       "      <th></th>\n",
       "      <th>car_name</th>\n",
       "      <th>car_price_in_rupee</th>\n",
       "      <th>kms_driven</th>\n",
       "      <th>fuel_type</th>\n",
       "      <th>ownership</th>\n",
       "      <th>engine</th>\n",
       "      <th>Seats</th>\n",
       "      <th>manufacture</th>\n",
       "      <th>Company_name</th>\n",
       "    </tr>\n",
       "  </thead>\n",
       "  <tbody>\n",
       "    <tr>\n",
       "      <th>0</th>\n",
       "      <td>Jeep Compass 2.0 Langitude Option BSIV</td>\n",
       "      <td>10.03 Lakh</td>\n",
       "      <td>86,226 kms</td>\n",
       "      <td>Diesel</td>\n",
       "      <td>1st Owner</td>\n",
       "      <td>1956 cc</td>\n",
       "      <td>5 Seats</td>\n",
       "      <td>January 7, 2018</td>\n",
       "      <td>Jeep</td>\n",
       "    </tr>\n",
       "    <tr>\n",
       "      <th>1</th>\n",
       "      <td>Renault Duster RXZ Turbo CVT</td>\n",
       "      <td>12.83 Lakh</td>\n",
       "      <td>13,248 kms</td>\n",
       "      <td>Petrol</td>\n",
       "      <td>1st Owner</td>\n",
       "      <td>1330 cc</td>\n",
       "      <td>5 Seats</td>\n",
       "      <td>January 15, 2018</td>\n",
       "      <td>Renault</td>\n",
       "    </tr>\n",
       "    <tr>\n",
       "      <th>2</th>\n",
       "      <td>BMW X1 sDrive 20d xLine</td>\n",
       "      <td>60.30 Lakh</td>\n",
       "      <td>60,343 kms</td>\n",
       "      <td>Petrol</td>\n",
       "      <td>1st Owner</td>\n",
       "      <td>2494 cc</td>\n",
       "      <td>5 Seats</td>\n",
       "      <td>August 1, 2018</td>\n",
       "      <td>BMW</td>\n",
       "    </tr>\n",
       "    <tr>\n",
       "      <th>3</th>\n",
       "      <td>Toyota Camry 2.5 G</td>\n",
       "      <td>9.43 Lakh</td>\n",
       "      <td>26,216 kms</td>\n",
       "      <td>Petrol</td>\n",
       "      <td>2nd Owner</td>\n",
       "      <td>1199 cc</td>\n",
       "      <td>5 Seats</td>\n",
       "      <td>June 8, 2018</td>\n",
       "      <td>Toyota</td>\n",
       "    </tr>\n",
       "    <tr>\n",
       "      <th>4</th>\n",
       "      <td>Honda WR-V VX Diesel</td>\n",
       "      <td>75,000</td>\n",
       "      <td>69,126 kms</td>\n",
       "      <td>Petrol</td>\n",
       "      <td>2nd Owner</td>\n",
       "      <td>1199 cc</td>\n",
       "      <td>5 Seats</td>\n",
       "      <td>June 20, 2018</td>\n",
       "      <td>Honda</td>\n",
       "    </tr>\n",
       "  </tbody>\n",
       "</table>\n",
       "</div>"
      ],
      "text/plain": [
       "                                 car_name car_price_in_rupee  kms_driven  \\\n",
       "0  Jeep Compass 2.0 Langitude Option BSIV         10.03 Lakh  86,226 kms   \n",
       "1            Renault Duster RXZ Turbo CVT         12.83 Lakh  13,248 kms   \n",
       "2                 BMW X1 sDrive 20d xLine         60.30 Lakh  60,343 kms   \n",
       "3                      Toyota Camry 2.5 G          9.43 Lakh  26,216 kms   \n",
       "4                    Honda WR-V VX Diesel             75,000  69,126 kms   \n",
       "\n",
       "  fuel_type  ownership   engine    Seats       manufacture Company_name  \n",
       "0    Diesel  1st Owner  1956 cc  5 Seats   January 7, 2018         Jeep  \n",
       "1    Petrol  1st Owner  1330 cc  5 Seats  January 15, 2018      Renault  \n",
       "2    Petrol  1st Owner  2494 cc  5 Seats    August 1, 2018          BMW  \n",
       "3    Petrol  2nd Owner  1199 cc  5 Seats      June 8, 2018       Toyota  \n",
       "4    Petrol  2nd Owner  1199 cc  5 Seats     June 20, 2018        Honda  "
      ]
     },
     "execution_count": 430,
     "metadata": {},
     "output_type": "execute_result"
    }
   ],
   "source": [
    "df.head()"
   ]
  },
  {
   "cell_type": "code",
   "execution_count": 431,
   "id": "47069675-d0e1-43af-96b9-153740ef1068",
   "metadata": {},
   "outputs": [
    {
     "data": {
      "text/plain": [
       "'Compass 2.0 Langitude Option BSIV'"
      ]
     },
     "execution_count": 431,
     "metadata": {},
     "output_type": "execute_result"
    }
   ],
   "source": [
    "x[x.index(\" \")+1:]"
   ]
  },
  {
   "cell_type": "code",
   "execution_count": 432,
   "id": "56516d1a-63c4-49e1-9246-d9e89a8ac7ad",
   "metadata": {},
   "outputs": [],
   "source": [
    "# The expression x[x.index(\" \")+1:] takes the substring from the index just after the first space to the end of the string.\n",
    "\n",
    "def car_name(x):\n",
    "    return x[x.index(\" \")+1:]"
   ]
  },
  {
   "cell_type": "code",
   "execution_count": 433,
   "id": "911d0379-6dfa-4bc7-82e6-a107cb8af077",
   "metadata": {},
   "outputs": [],
   "source": [
    "df['car_name'] = df['car_name'].apply(car_name)"
   ]
  },
  {
   "cell_type": "code",
   "execution_count": 434,
   "id": "d82762c0-e2d3-48f3-b117-670f98d81e0a",
   "metadata": {},
   "outputs": [
    {
     "data": {
      "text/plain": [
       "0    2.0 Langitude Option BSIV\n",
       "1                RXZ Turbo CVT\n",
       "2             sDrive 20d xLine\n",
       "3                        2.5 G\n",
       "4                    VX Diesel\n",
       "5                    1.2 Alpha\n",
       "6                 Series 730LD\n",
       "7             2.2 Litre Luxury\n",
       "Name: car_name, dtype: object"
      ]
     },
     "execution_count": 434,
     "metadata": {},
     "output_type": "execute_result"
    }
   ],
   "source": [
    "df['car_name'].apply(car_name)"
   ]
  },
  {
   "cell_type": "code",
   "execution_count": 435,
   "id": "75bc1889-a9f0-4892-8946-e1e8779cdce5",
   "metadata": {},
   "outputs": [
    {
     "data": {
      "text/html": [
       "<div>\n",
       "<style scoped>\n",
       "    .dataframe tbody tr th:only-of-type {\n",
       "        vertical-align: middle;\n",
       "    }\n",
       "\n",
       "    .dataframe tbody tr th {\n",
       "        vertical-align: top;\n",
       "    }\n",
       "\n",
       "    .dataframe thead th {\n",
       "        text-align: right;\n",
       "    }\n",
       "</style>\n",
       "<table border=\"1\" class=\"dataframe\">\n",
       "  <thead>\n",
       "    <tr style=\"text-align: right;\">\n",
       "      <th></th>\n",
       "      <th>car_name</th>\n",
       "      <th>car_price_in_rupee</th>\n",
       "      <th>kms_driven</th>\n",
       "      <th>fuel_type</th>\n",
       "      <th>ownership</th>\n",
       "      <th>engine</th>\n",
       "      <th>Seats</th>\n",
       "      <th>manufacture</th>\n",
       "      <th>Company_name</th>\n",
       "    </tr>\n",
       "  </thead>\n",
       "  <tbody>\n",
       "    <tr>\n",
       "      <th>0</th>\n",
       "      <td>Compass 2.0 Langitude Option BSIV</td>\n",
       "      <td>10.03 Lakh</td>\n",
       "      <td>86,226 kms</td>\n",
       "      <td>Diesel</td>\n",
       "      <td>1st Owner</td>\n",
       "      <td>1956 cc</td>\n",
       "      <td>5 Seats</td>\n",
       "      <td>January 7, 2018</td>\n",
       "      <td>Jeep</td>\n",
       "    </tr>\n",
       "    <tr>\n",
       "      <th>1</th>\n",
       "      <td>Duster RXZ Turbo CVT</td>\n",
       "      <td>12.83 Lakh</td>\n",
       "      <td>13,248 kms</td>\n",
       "      <td>Petrol</td>\n",
       "      <td>1st Owner</td>\n",
       "      <td>1330 cc</td>\n",
       "      <td>5 Seats</td>\n",
       "      <td>January 15, 2018</td>\n",
       "      <td>Renault</td>\n",
       "    </tr>\n",
       "    <tr>\n",
       "      <th>2</th>\n",
       "      <td>X1 sDrive 20d xLine</td>\n",
       "      <td>60.30 Lakh</td>\n",
       "      <td>60,343 kms</td>\n",
       "      <td>Petrol</td>\n",
       "      <td>1st Owner</td>\n",
       "      <td>2494 cc</td>\n",
       "      <td>5 Seats</td>\n",
       "      <td>August 1, 2018</td>\n",
       "      <td>BMW</td>\n",
       "    </tr>\n",
       "    <tr>\n",
       "      <th>3</th>\n",
       "      <td>Camry 2.5 G</td>\n",
       "      <td>9.43 Lakh</td>\n",
       "      <td>26,216 kms</td>\n",
       "      <td>Petrol</td>\n",
       "      <td>2nd Owner</td>\n",
       "      <td>1199 cc</td>\n",
       "      <td>5 Seats</td>\n",
       "      <td>June 8, 2018</td>\n",
       "      <td>Toyota</td>\n",
       "    </tr>\n",
       "    <tr>\n",
       "      <th>4</th>\n",
       "      <td>WR-V VX Diesel</td>\n",
       "      <td>75,000</td>\n",
       "      <td>69,126 kms</td>\n",
       "      <td>Petrol</td>\n",
       "      <td>2nd Owner</td>\n",
       "      <td>1199 cc</td>\n",
       "      <td>5 Seats</td>\n",
       "      <td>June 20, 2018</td>\n",
       "      <td>Honda</td>\n",
       "    </tr>\n",
       "  </tbody>\n",
       "</table>\n",
       "</div>"
      ],
      "text/plain": [
       "                            car_name car_price_in_rupee  kms_driven fuel_type  \\\n",
       "0  Compass 2.0 Langitude Option BSIV         10.03 Lakh  86,226 kms    Diesel   \n",
       "1               Duster RXZ Turbo CVT         12.83 Lakh  13,248 kms    Petrol   \n",
       "2                X1 sDrive 20d xLine         60.30 Lakh  60,343 kms    Petrol   \n",
       "3                        Camry 2.5 G          9.43 Lakh  26,216 kms    Petrol   \n",
       "4                     WR-V VX Diesel             75,000  69,126 kms    Petrol   \n",
       "\n",
       "   ownership   engine    Seats       manufacture Company_name  \n",
       "0  1st Owner  1956 cc  5 Seats   January 7, 2018         Jeep  \n",
       "1  1st Owner  1330 cc  5 Seats  January 15, 2018      Renault  \n",
       "2  1st Owner  2494 cc  5 Seats    August 1, 2018          BMW  \n",
       "3  2nd Owner  1199 cc  5 Seats      June 8, 2018       Toyota  \n",
       "4  2nd Owner  1199 cc  5 Seats     June 20, 2018        Honda  "
      ]
     },
     "execution_count": 435,
     "metadata": {},
     "output_type": "execute_result"
    }
   ],
   "source": [
    "df.head()"
   ]
  },
  {
   "cell_type": "markdown",
   "id": "ecfbcb65-a081-4a99-98e9-ad9b502d3c99",
   "metadata": {},
   "source": [
    "# car_price_in_rupee"
   ]
  },
  {
   "cell_type": "code",
   "execution_count": 436,
   "id": "eeba2138-cc6a-491c-bb51-25881fab927e",
   "metadata": {},
   "outputs": [
    {
     "data": {
      "text/plain": [
       "0    10.03 Lakh\n",
       "1    12.83 Lakh\n",
       "2    60.30 Lakh\n",
       "3     9.43 Lakh\n",
       "4        75,000\n",
       "5    11.30 Lakh\n",
       "6    75.10 Lakh\n",
       "7    1.02 Crore\n",
       "Name: car_price_in_rupee, dtype: object"
      ]
     },
     "execution_count": 436,
     "metadata": {},
     "output_type": "execute_result"
    }
   ],
   "source": [
    "df['car_price_in_rupee']"
   ]
  },
  {
   "cell_type": "code",
   "execution_count": 437,
   "id": "96a6c95c-c74a-467a-bd71-465d17105fe7",
   "metadata": {},
   "outputs": [],
   "source": [
    "df['car_price_in_rupee'] = df['car_price_in_rupee'].str.replace(\",\",\"\")  # To remove comma..."
   ]
  },
  {
   "cell_type": "code",
   "execution_count": 438,
   "id": "c124a823-6077-4c63-b9b4-36a7629f3c92",
   "metadata": {},
   "outputs": [
    {
     "data": {
      "text/plain": [
       "0    10.03 Lakh\n",
       "1    12.83 Lakh\n",
       "2    60.30 Lakh\n",
       "3     9.43 Lakh\n",
       "4         75000\n",
       "5    11.30 Lakh\n",
       "6    75.10 Lakh\n",
       "7    1.02 Crore\n",
       "Name: car_price_in_rupee, dtype: object"
      ]
     },
     "execution_count": 438,
     "metadata": {},
     "output_type": "execute_result"
    }
   ],
   "source": [
    "df['car_price_in_rupee']"
   ]
  },
  {
   "cell_type": "code",
   "execution_count": 439,
   "id": "f99a4897-928b-4d4d-8ea6-a802a3367a3e",
   "metadata": {},
   "outputs": [
    {
     "data": {
      "text/plain": [
       "['10.03', 'Lakh']"
      ]
     },
     "execution_count": 439,
     "metadata": {},
     "output_type": "execute_result"
    }
   ],
   "source": [
    "# Example:-\n",
    "l = \"10.03 Lakh\"\n",
    "a = l.split(\" \")\n",
    "a"
   ]
  },
  {
   "cell_type": "code",
   "execution_count": 440,
   "id": "50e3cd87-fb82-4daf-82c3-40e5443a207b",
   "metadata": {},
   "outputs": [
    {
     "data": {
      "text/plain": [
       "10.03"
      ]
     },
     "execution_count": 440,
     "metadata": {},
     "output_type": "execute_result"
    }
   ],
   "source": [
    "float(a[0])"
   ]
  },
  {
   "cell_type": "code",
   "execution_count": 441,
   "id": "3ffe9522-e0dd-41ae-9b1e-599a7825a79f",
   "metadata": {},
   "outputs": [
    {
     "data": {
      "text/plain": [
       "1002999.9999999999"
      ]
     },
     "execution_count": 441,
     "metadata": {},
     "output_type": "execute_result"
    }
   ],
   "source": [
    "float(a[0])*100000"
   ]
  },
  {
   "cell_type": "code",
   "execution_count": 442,
   "id": "c015a2c9-c120-4793-96bf-3c1968dac964",
   "metadata": {},
   "outputs": [
    {
     "data": {
      "text/plain": [
       "1003000.0"
      ]
     },
     "execution_count": 442,
     "metadata": {},
     "output_type": "execute_result"
    }
   ],
   "source": [
    "round(float(a[0])*100000,1)"
   ]
  },
  {
   "cell_type": "code",
   "execution_count": 443,
   "id": "a5ac9a2b-b498-480a-bfa0-642a0ef6263f",
   "metadata": {},
   "outputs": [],
   "source": [
    "def rupe_change(x):\n",
    "    p = x.split(\" \")\n",
    "    try :\n",
    "        if p[1] == \"Lakh\" :\n",
    "            return str(round(float(p[0])*100000,1))\n",
    "        elif p[1] == \"Crore\" :\n",
    "            return str(round(float(p[0])*10000000,1))\n",
    "    except :\n",
    "        return x"
   ]
  },
  {
   "cell_type": "code",
   "execution_count": 444,
   "id": "54278c87-9f4d-4412-9b3a-68ac0778b1f5",
   "metadata": {},
   "outputs": [],
   "source": [
    "df['car_price_in_rupee'] = df['car_price_in_rupee'].apply(rupe_change)"
   ]
  },
  {
   "cell_type": "code",
   "execution_count": 445,
   "id": "300843dd-98bf-4f87-a9da-88e0c998865c",
   "metadata": {},
   "outputs": [
    {
     "name": "stdout",
     "output_type": "stream",
     "text": [
      "<class 'pandas.core.frame.DataFrame'>\n",
      "RangeIndex: 8 entries, 0 to 7\n",
      "Data columns (total 9 columns):\n",
      " #   Column              Non-Null Count  Dtype \n",
      "---  ------              --------------  ----- \n",
      " 0   car_name            8 non-null      object\n",
      " 1   car_price_in_rupee  8 non-null      object\n",
      " 2   kms_driven          8 non-null      object\n",
      " 3   fuel_type           8 non-null      object\n",
      " 4   ownership           8 non-null      object\n",
      " 5   engine              8 non-null      object\n",
      " 6   Seats               8 non-null      object\n",
      " 7   manufacture         8 non-null      object\n",
      " 8   Company_name        8 non-null      object\n",
      "dtypes: object(9)\n",
      "memory usage: 708.0+ bytes\n"
     ]
    }
   ],
   "source": [
    "df.info()"
   ]
  },
  {
   "cell_type": "code",
   "execution_count": 446,
   "id": "3b9950c1-789f-4616-961f-9439060e131f",
   "metadata": {},
   "outputs": [],
   "source": [
    "# Change Datatype.........\n",
    "\n",
    "df['car_price_in_rupee'] = df['car_price_in_rupee'].astype(\"float64\")"
   ]
  },
  {
   "cell_type": "code",
   "execution_count": 447,
   "id": "4d4a4a14-3e9c-45b5-8c79-67f0cb3d6d56",
   "metadata": {},
   "outputs": [
    {
     "name": "stdout",
     "output_type": "stream",
     "text": [
      "<class 'pandas.core.frame.DataFrame'>\n",
      "RangeIndex: 8 entries, 0 to 7\n",
      "Data columns (total 9 columns):\n",
      " #   Column              Non-Null Count  Dtype  \n",
      "---  ------              --------------  -----  \n",
      " 0   car_name            8 non-null      object \n",
      " 1   car_price_in_rupee  8 non-null      float64\n",
      " 2   kms_driven          8 non-null      object \n",
      " 3   fuel_type           8 non-null      object \n",
      " 4   ownership           8 non-null      object \n",
      " 5   engine              8 non-null      object \n",
      " 6   Seats               8 non-null      object \n",
      " 7   manufacture         8 non-null      object \n",
      " 8   Company_name        8 non-null      object \n",
      "dtypes: float64(1), object(8)\n",
      "memory usage: 708.0+ bytes\n"
     ]
    }
   ],
   "source": [
    "df.info()"
   ]
  },
  {
   "cell_type": "markdown",
   "id": "2bd3b892-39be-4f7d-88c6-d0f5e1190d86",
   "metadata": {},
   "source": [
    "# kms_driven"
   ]
  },
  {
   "cell_type": "code",
   "execution_count": 448,
   "id": "65624734-222a-4961-9945-c3befbacce5d",
   "metadata": {},
   "outputs": [
    {
     "data": {
      "text/plain": [
       "0    86,226 kms\n",
       "1    13,248 kms\n",
       "2    60,343 kms\n",
       "3    26,216 kms\n",
       "4    69,126 kms\n",
       "5    49,654 kms\n",
       "6    43,226 kms\n",
       "7    14,126 kms\n",
       "Name: kms_driven, dtype: object"
      ]
     },
     "execution_count": 448,
     "metadata": {},
     "output_type": "execute_result"
    }
   ],
   "source": [
    "df[\"kms_driven\"]"
   ]
  },
  {
   "cell_type": "code",
   "execution_count": 449,
   "id": "43b76c90-efe5-4c0d-a4ad-4d3974f155fc",
   "metadata": {},
   "outputs": [],
   "source": [
    "df[\"kms_driven\"] = df[\"kms_driven\"].str.replace(\",\" , \"\")\n",
    "df[\"kms_driven\"] = df[\"kms_driven\"].str.replace(\" kms\" , \"\")"
   ]
  },
  {
   "cell_type": "code",
   "execution_count": 450,
   "id": "16dc72b5-7e5c-4b45-a00e-3dfe15ba1b34",
   "metadata": {},
   "outputs": [],
   "source": [
    "df[\"kms_driven\"] = df[\"kms_driven\"].astype(\"int64\")"
   ]
  },
  {
   "cell_type": "code",
   "execution_count": 451,
   "id": "9b59f9f2-d26e-427d-a373-6c7440977238",
   "metadata": {},
   "outputs": [
    {
     "name": "stdout",
     "output_type": "stream",
     "text": [
      "<class 'pandas.core.frame.DataFrame'>\n",
      "RangeIndex: 8 entries, 0 to 7\n",
      "Data columns (total 9 columns):\n",
      " #   Column              Non-Null Count  Dtype  \n",
      "---  ------              --------------  -----  \n",
      " 0   car_name            8 non-null      object \n",
      " 1   car_price_in_rupee  8 non-null      float64\n",
      " 2   kms_driven          8 non-null      int64  \n",
      " 3   fuel_type           8 non-null      object \n",
      " 4   ownership           8 non-null      object \n",
      " 5   engine              8 non-null      object \n",
      " 6   Seats               8 non-null      object \n",
      " 7   manufacture         8 non-null      object \n",
      " 8   Company_name        8 non-null      object \n",
      "dtypes: float64(1), int64(1), object(7)\n",
      "memory usage: 708.0+ bytes\n"
     ]
    }
   ],
   "source": [
    "df.info()"
   ]
  },
  {
   "cell_type": "markdown",
   "id": "88fa7c6b-38ee-4e8c-bb6e-aab9e648ea12",
   "metadata": {},
   "source": [
    "# engine"
   ]
  },
  {
   "cell_type": "code",
   "execution_count": 452,
   "id": "f0d7fc5f-1152-4c62-ad2e-756f90ecea01",
   "metadata": {},
   "outputs": [
    {
     "data": {
      "text/plain": [
       "0    1956 cc\n",
       "1    1330 cc\n",
       "2    2494 cc\n",
       "3    1199 cc\n",
       "4    1199 cc\n",
       "5    1197 cc\n",
       "6    1498 cc\n",
       "7    1368 cc\n",
       "Name: engine, dtype: object"
      ]
     },
     "execution_count": 452,
     "metadata": {},
     "output_type": "execute_result"
    }
   ],
   "source": [
    "df[\"engine\"]"
   ]
  },
  {
   "cell_type": "code",
   "execution_count": 453,
   "id": "dbfb97d5-a5e8-4bbc-983b-16b4a652a396",
   "metadata": {},
   "outputs": [],
   "source": [
    "df[\"engine\"] = df[\"engine\"].str.replace(\" cc\" , \"\")"
   ]
  },
  {
   "cell_type": "code",
   "execution_count": 454,
   "id": "c4c92f9f-8d95-4eec-b12f-052f906a3f28",
   "metadata": {},
   "outputs": [],
   "source": [
    "df[\"engine\"] = df[\"engine\"].astype(\"int64\")"
   ]
  },
  {
   "cell_type": "code",
   "execution_count": 455,
   "id": "45d2275c-3084-42ea-b8d4-11443b40b689",
   "metadata": {},
   "outputs": [
    {
     "name": "stdout",
     "output_type": "stream",
     "text": [
      "<class 'pandas.core.frame.DataFrame'>\n",
      "RangeIndex: 8 entries, 0 to 7\n",
      "Data columns (total 9 columns):\n",
      " #   Column              Non-Null Count  Dtype  \n",
      "---  ------              --------------  -----  \n",
      " 0   car_name            8 non-null      object \n",
      " 1   car_price_in_rupee  8 non-null      float64\n",
      " 2   kms_driven          8 non-null      int64  \n",
      " 3   fuel_type           8 non-null      object \n",
      " 4   ownership           8 non-null      object \n",
      " 5   engine              8 non-null      int64  \n",
      " 6   Seats               8 non-null      object \n",
      " 7   manufacture         8 non-null      object \n",
      " 8   Company_name        8 non-null      object \n",
      "dtypes: float64(1), int64(2), object(6)\n",
      "memory usage: 708.0+ bytes\n"
     ]
    }
   ],
   "source": [
    "df.info()"
   ]
  },
  {
   "cell_type": "markdown",
   "id": "30332109-8b8d-4be8-94d8-dd73d680d618",
   "metadata": {},
   "source": [
    "# Seats"
   ]
  },
  {
   "cell_type": "code",
   "execution_count": 456,
   "id": "7105f44d-6020-41e8-a353-7fe36075e254",
   "metadata": {},
   "outputs": [
    {
     "data": {
      "text/plain": [
       "0    5 Seats\n",
       "1    5 Seats\n",
       "2    5 Seats\n",
       "3    5 Seats\n",
       "4    5 Seats\n",
       "5    5 Seats\n",
       "6    5 Seats\n",
       "7    5 Seats\n",
       "Name: Seats, dtype: object"
      ]
     },
     "execution_count": 456,
     "metadata": {},
     "output_type": "execute_result"
    }
   ],
   "source": [
    "df[\"Seats\"] "
   ]
  },
  {
   "cell_type": "code",
   "execution_count": 457,
   "id": "53a79064-62d7-4526-b3ff-c16fada748e5",
   "metadata": {},
   "outputs": [],
   "source": [
    "df[\"Seats\"] = df[\"Seats\"].str.replace(\" Seats\", \"\")\n",
    "df[\"Seats\"] = df[\"Seats\"].astype(\"int64\")"
   ]
  },
  {
   "cell_type": "markdown",
   "id": "9d5f91a8-b7ad-433b-bde4-d13c415296e5",
   "metadata": {},
   "source": [
    "# manufacture"
   ]
  },
  {
   "cell_type": "code",
   "execution_count": 458,
   "id": "bbb07f78-f66f-42ef-abe6-30458c0102b0",
   "metadata": {},
   "outputs": [
    {
     "data": {
      "text/plain": [
       "0     January 7, 2018\n",
       "1    January 15, 2018\n",
       "2      August 1, 2018\n",
       "3        June 8, 2018\n",
       "4       June 20, 2018\n",
       "5      April 26, 2018\n",
       "6       June 13, 2018\n",
       "7      March 11, 2018\n",
       "Name: manufacture, dtype: object"
      ]
     },
     "execution_count": 458,
     "metadata": {},
     "output_type": "execute_result"
    }
   ],
   "source": [
    "df[\"manufacture\"]"
   ]
  },
  {
   "cell_type": "code",
   "execution_count": 459,
   "id": "c4822888-4819-42f2-ba46-a2a2d5a919f7",
   "metadata": {},
   "outputs": [
    {
     "data": {
      "text/plain": [
       "0   2018-01-07\n",
       "1   2018-01-15\n",
       "2   2018-08-01\n",
       "3   2018-06-08\n",
       "4   2018-06-20\n",
       "5   2018-04-26\n",
       "6   2018-06-13\n",
       "7   2018-03-11\n",
       "Name: manufacture, dtype: datetime64[ns]"
      ]
     },
     "execution_count": 459,
     "metadata": {},
     "output_type": "execute_result"
    }
   ],
   "source": [
    "df[\"manufacture\"] = pd.to_datetime(df[\"manufacture\"])\n",
    "df[\"manufacture\"]"
   ]
  },
  {
   "cell_type": "code",
   "execution_count": 460,
   "id": "d41427d7-9122-4a80-80e0-ff1b15b42cf3",
   "metadata": {},
   "outputs": [
    {
     "name": "stdout",
     "output_type": "stream",
     "text": [
      "<class 'pandas.core.frame.DataFrame'>\n",
      "RangeIndex: 8 entries, 0 to 7\n",
      "Data columns (total 9 columns):\n",
      " #   Column              Non-Null Count  Dtype         \n",
      "---  ------              --------------  -----         \n",
      " 0   car_name            8 non-null      object        \n",
      " 1   car_price_in_rupee  8 non-null      float64       \n",
      " 2   kms_driven          8 non-null      int64         \n",
      " 3   fuel_type           8 non-null      object        \n",
      " 4   ownership           8 non-null      object        \n",
      " 5   engine              8 non-null      int64         \n",
      " 6   Seats               8 non-null      int64         \n",
      " 7   manufacture         8 non-null      datetime64[ns]\n",
      " 8   Company_name        8 non-null      object        \n",
      "dtypes: datetime64[ns](1), float64(1), int64(3), object(4)\n",
      "memory usage: 708.0+ bytes\n"
     ]
    }
   ],
   "source": [
    "df.info()"
   ]
  },
  {
   "cell_type": "markdown",
   "id": "5424f439-38ab-431a-bd58-40f22aaf1ab1",
   "metadata": {},
   "source": [
    "# Data Cleaning for ML"
   ]
  },
  {
   "cell_type": "code",
   "execution_count": 461,
   "id": "29e28454-29e2-4b3f-9cfd-9275737a4a86",
   "metadata": {},
   "outputs": [],
   "source": [
    "from sklearn.preprocessing import LabelEncoder,StandardScaler"
   ]
  },
  {
   "cell_type": "code",
   "execution_count": 462,
   "id": "2f830d10-f287-4bca-969c-db7354c37a48",
   "metadata": {},
   "outputs": [
    {
     "data": {
      "text/html": [
       "<div>\n",
       "<style scoped>\n",
       "    .dataframe tbody tr th:only-of-type {\n",
       "        vertical-align: middle;\n",
       "    }\n",
       "\n",
       "    .dataframe tbody tr th {\n",
       "        vertical-align: top;\n",
       "    }\n",
       "\n",
       "    .dataframe thead th {\n",
       "        text-align: right;\n",
       "    }\n",
       "</style>\n",
       "<table border=\"1\" class=\"dataframe\">\n",
       "  <thead>\n",
       "    <tr style=\"text-align: right;\">\n",
       "      <th></th>\n",
       "      <th>car_name</th>\n",
       "      <th>car_price_in_rupee</th>\n",
       "      <th>kms_driven</th>\n",
       "      <th>fuel_type</th>\n",
       "      <th>ownership</th>\n",
       "      <th>engine</th>\n",
       "      <th>Seats</th>\n",
       "      <th>manufacture</th>\n",
       "      <th>Company_name</th>\n",
       "    </tr>\n",
       "  </thead>\n",
       "  <tbody>\n",
       "    <tr>\n",
       "      <th>0</th>\n",
       "      <td>Compass 2.0 Langitude Option BSIV</td>\n",
       "      <td>1003000.0</td>\n",
       "      <td>86226</td>\n",
       "      <td>Diesel</td>\n",
       "      <td>1st Owner</td>\n",
       "      <td>1956</td>\n",
       "      <td>5</td>\n",
       "      <td>2018-01-07</td>\n",
       "      <td>Jeep</td>\n",
       "    </tr>\n",
       "    <tr>\n",
       "      <th>1</th>\n",
       "      <td>Duster RXZ Turbo CVT</td>\n",
       "      <td>1283000.0</td>\n",
       "      <td>13248</td>\n",
       "      <td>Petrol</td>\n",
       "      <td>1st Owner</td>\n",
       "      <td>1330</td>\n",
       "      <td>5</td>\n",
       "      <td>2018-01-15</td>\n",
       "      <td>Renault</td>\n",
       "    </tr>\n",
       "    <tr>\n",
       "      <th>2</th>\n",
       "      <td>X1 sDrive 20d xLine</td>\n",
       "      <td>6030000.0</td>\n",
       "      <td>60343</td>\n",
       "      <td>Petrol</td>\n",
       "      <td>1st Owner</td>\n",
       "      <td>2494</td>\n",
       "      <td>5</td>\n",
       "      <td>2018-08-01</td>\n",
       "      <td>BMW</td>\n",
       "    </tr>\n",
       "    <tr>\n",
       "      <th>3</th>\n",
       "      <td>Camry 2.5 G</td>\n",
       "      <td>943000.0</td>\n",
       "      <td>26216</td>\n",
       "      <td>Petrol</td>\n",
       "      <td>2nd Owner</td>\n",
       "      <td>1199</td>\n",
       "      <td>5</td>\n",
       "      <td>2018-06-08</td>\n",
       "      <td>Toyota</td>\n",
       "    </tr>\n",
       "    <tr>\n",
       "      <th>4</th>\n",
       "      <td>WR-V VX Diesel</td>\n",
       "      <td>75000.0</td>\n",
       "      <td>69126</td>\n",
       "      <td>Petrol</td>\n",
       "      <td>2nd Owner</td>\n",
       "      <td>1199</td>\n",
       "      <td>5</td>\n",
       "      <td>2018-06-20</td>\n",
       "      <td>Honda</td>\n",
       "    </tr>\n",
       "    <tr>\n",
       "      <th>5</th>\n",
       "      <td>Baleno 1.2 Alpha</td>\n",
       "      <td>1130000.0</td>\n",
       "      <td>49654</td>\n",
       "      <td>Diesel</td>\n",
       "      <td>2nd Owner</td>\n",
       "      <td>1197</td>\n",
       "      <td>5</td>\n",
       "      <td>2018-04-26</td>\n",
       "      <td>Maruti</td>\n",
       "    </tr>\n",
       "    <tr>\n",
       "      <th>6</th>\n",
       "      <td>7 Series 730LD</td>\n",
       "      <td>7510000.0</td>\n",
       "      <td>43226</td>\n",
       "      <td>Diesel</td>\n",
       "      <td>3rd Owner</td>\n",
       "      <td>1498</td>\n",
       "      <td>5</td>\n",
       "      <td>2018-06-13</td>\n",
       "      <td>BMW</td>\n",
       "    </tr>\n",
       "    <tr>\n",
       "      <th>7</th>\n",
       "      <td>XF 2.2 Litre Luxury</td>\n",
       "      <td>10200000.0</td>\n",
       "      <td>14126</td>\n",
       "      <td>Petrol</td>\n",
       "      <td>3rd Owner</td>\n",
       "      <td>1368</td>\n",
       "      <td>5</td>\n",
       "      <td>2018-03-11</td>\n",
       "      <td>Jaguar</td>\n",
       "    </tr>\n",
       "  </tbody>\n",
       "</table>\n",
       "</div>"
      ],
      "text/plain": [
       "                            car_name  car_price_in_rupee  kms_driven  \\\n",
       "0  Compass 2.0 Langitude Option BSIV           1003000.0       86226   \n",
       "1               Duster RXZ Turbo CVT           1283000.0       13248   \n",
       "2                X1 sDrive 20d xLine           6030000.0       60343   \n",
       "3                        Camry 2.5 G            943000.0       26216   \n",
       "4                     WR-V VX Diesel             75000.0       69126   \n",
       "5                   Baleno 1.2 Alpha           1130000.0       49654   \n",
       "6                     7 Series 730LD           7510000.0       43226   \n",
       "7                XF 2.2 Litre Luxury          10200000.0       14126   \n",
       "\n",
       "  fuel_type  ownership  engine  Seats manufacture Company_name  \n",
       "0    Diesel  1st Owner    1956      5  2018-01-07         Jeep  \n",
       "1    Petrol  1st Owner    1330      5  2018-01-15      Renault  \n",
       "2    Petrol  1st Owner    2494      5  2018-08-01          BMW  \n",
       "3    Petrol  2nd Owner    1199      5  2018-06-08       Toyota  \n",
       "4    Petrol  2nd Owner    1199      5  2018-06-20        Honda  \n",
       "5    Diesel  2nd Owner    1197      5  2018-04-26       Maruti  \n",
       "6    Diesel  3rd Owner    1498      5  2018-06-13          BMW  \n",
       "7    Petrol  3rd Owner    1368      5  2018-03-11       Jaguar  "
      ]
     },
     "execution_count": 462,
     "metadata": {},
     "output_type": "execute_result"
    }
   ],
   "source": [
    "df"
   ]
  },
  {
   "cell_type": "markdown",
   "id": "55a7f374-4b9c-408e-b17e-caba6ce571f6",
   "metadata": {},
   "source": [
    "# car_name "
   ]
  },
  {
   "cell_type": "code",
   "execution_count": 463,
   "id": "a36f51ac-b9db-4838-910b-71e768c12892",
   "metadata": {},
   "outputs": [],
   "source": [
    "car_name_en = LabelEncoder()\n",
    "df['car_name'] = car_name_en.fit_transform(df['car_name'])"
   ]
  },
  {
   "cell_type": "markdown",
   "id": "f39d0580-ccdf-4f4b-897e-55a57ec960b7",
   "metadata": {},
   "source": [
    "# fuel_type"
   ]
  },
  {
   "cell_type": "code",
   "execution_count": 464,
   "id": "9ec7d9f8-99a4-4d41-9b80-cc87b6dc1b1c",
   "metadata": {},
   "outputs": [],
   "source": [
    "fuel_type_en = LabelEncoder()\n",
    "df['fuel_type'] = fuel_type_en.fit_transform(df['fuel_type'])"
   ]
  },
  {
   "cell_type": "markdown",
   "id": "dc5cea95-e8a6-4368-94f3-7172870a0851",
   "metadata": {},
   "source": [
    "# ownership\t"
   ]
  },
  {
   "cell_type": "code",
   "execution_count": 465,
   "id": "4361665a-0fff-4f3b-870c-79e89c26b37b",
   "metadata": {},
   "outputs": [],
   "source": [
    "ownership_en = LabelEncoder()\n",
    "df['ownership'] = ownership_en.fit_transform(df['ownership'])"
   ]
  },
  {
   "cell_type": "markdown",
   "id": "5a753b30-8791-42a0-a984-dc482f66d5fa",
   "metadata": {},
   "source": [
    "# manufacture"
   ]
  },
  {
   "cell_type": "code",
   "execution_count": 466,
   "id": "d2cd33cc-91ab-412d-b377-bddc7d8d7f25",
   "metadata": {},
   "outputs": [
    {
     "data": {
      "text/plain": [
       "0    2018\n",
       "1    2018\n",
       "2    2018\n",
       "3    2018\n",
       "4    2018\n",
       "5    2018\n",
       "6    2018\n",
       "7    2018\n",
       "Name: manufacture, dtype: int32"
      ]
     },
     "execution_count": 466,
     "metadata": {},
     "output_type": "execute_result"
    }
   ],
   "source": [
    "df['manufacture'].dt.year"
   ]
  },
  {
   "cell_type": "code",
   "execution_count": 467,
   "id": "014bf30e-4443-4261-9abb-6ad74700815c",
   "metadata": {},
   "outputs": [],
   "source": [
    "df['manufacture year'] = df['manufacture'].dt.year"
   ]
  },
  {
   "cell_type": "code",
   "execution_count": 468,
   "id": "353a95ab-c229-45a2-842b-2bc969102ece",
   "metadata": {},
   "outputs": [],
   "source": [
    "df.drop(columns=['manufacture'],inplace=True)"
   ]
  },
  {
   "cell_type": "markdown",
   "id": "17111b8f-6c81-4bc5-abbb-e88fa132e1dd",
   "metadata": {},
   "source": [
    "# Company_name"
   ]
  },
  {
   "cell_type": "code",
   "execution_count": 469,
   "id": "9e347141-2078-4984-9742-fcf583cb9851",
   "metadata": {},
   "outputs": [],
   "source": [
    "Company_name_en =  LabelEncoder()\n",
    "df['Company_name'] = Company_name_en.fit_transform(df['Company_name'])"
   ]
  },
  {
   "cell_type": "code",
   "execution_count": 470,
   "id": "25548112-772e-49af-9d1b-1d393793ea9c",
   "metadata": {},
   "outputs": [
    {
     "data": {
      "text/html": [
       "<div>\n",
       "<style scoped>\n",
       "    .dataframe tbody tr th:only-of-type {\n",
       "        vertical-align: middle;\n",
       "    }\n",
       "\n",
       "    .dataframe tbody tr th {\n",
       "        vertical-align: top;\n",
       "    }\n",
       "\n",
       "    .dataframe thead th {\n",
       "        text-align: right;\n",
       "    }\n",
       "</style>\n",
       "<table border=\"1\" class=\"dataframe\">\n",
       "  <thead>\n",
       "    <tr style=\"text-align: right;\">\n",
       "      <th></th>\n",
       "      <th>car_name</th>\n",
       "      <th>car_price_in_rupee</th>\n",
       "      <th>kms_driven</th>\n",
       "      <th>fuel_type</th>\n",
       "      <th>ownership</th>\n",
       "      <th>engine</th>\n",
       "      <th>Seats</th>\n",
       "      <th>Company_name</th>\n",
       "      <th>manufacture year</th>\n",
       "    </tr>\n",
       "  </thead>\n",
       "  <tbody>\n",
       "    <tr>\n",
       "      <th>0</th>\n",
       "      <td>3</td>\n",
       "      <td>1003000.0</td>\n",
       "      <td>86226</td>\n",
       "      <td>0</td>\n",
       "      <td>0</td>\n",
       "      <td>1956</td>\n",
       "      <td>5</td>\n",
       "      <td>3</td>\n",
       "      <td>2018</td>\n",
       "    </tr>\n",
       "    <tr>\n",
       "      <th>1</th>\n",
       "      <td>4</td>\n",
       "      <td>1283000.0</td>\n",
       "      <td>13248</td>\n",
       "      <td>1</td>\n",
       "      <td>0</td>\n",
       "      <td>1330</td>\n",
       "      <td>5</td>\n",
       "      <td>5</td>\n",
       "      <td>2018</td>\n",
       "    </tr>\n",
       "    <tr>\n",
       "      <th>2</th>\n",
       "      <td>6</td>\n",
       "      <td>6030000.0</td>\n",
       "      <td>60343</td>\n",
       "      <td>1</td>\n",
       "      <td>0</td>\n",
       "      <td>2494</td>\n",
       "      <td>5</td>\n",
       "      <td>0</td>\n",
       "      <td>2018</td>\n",
       "    </tr>\n",
       "    <tr>\n",
       "      <th>3</th>\n",
       "      <td>2</td>\n",
       "      <td>943000.0</td>\n",
       "      <td>26216</td>\n",
       "      <td>1</td>\n",
       "      <td>1</td>\n",
       "      <td>1199</td>\n",
       "      <td>5</td>\n",
       "      <td>6</td>\n",
       "      <td>2018</td>\n",
       "    </tr>\n",
       "    <tr>\n",
       "      <th>4</th>\n",
       "      <td>5</td>\n",
       "      <td>75000.0</td>\n",
       "      <td>69126</td>\n",
       "      <td>1</td>\n",
       "      <td>1</td>\n",
       "      <td>1199</td>\n",
       "      <td>5</td>\n",
       "      <td>1</td>\n",
       "      <td>2018</td>\n",
       "    </tr>\n",
       "    <tr>\n",
       "      <th>5</th>\n",
       "      <td>1</td>\n",
       "      <td>1130000.0</td>\n",
       "      <td>49654</td>\n",
       "      <td>0</td>\n",
       "      <td>1</td>\n",
       "      <td>1197</td>\n",
       "      <td>5</td>\n",
       "      <td>4</td>\n",
       "      <td>2018</td>\n",
       "    </tr>\n",
       "    <tr>\n",
       "      <th>6</th>\n",
       "      <td>0</td>\n",
       "      <td>7510000.0</td>\n",
       "      <td>43226</td>\n",
       "      <td>0</td>\n",
       "      <td>2</td>\n",
       "      <td>1498</td>\n",
       "      <td>5</td>\n",
       "      <td>0</td>\n",
       "      <td>2018</td>\n",
       "    </tr>\n",
       "    <tr>\n",
       "      <th>7</th>\n",
       "      <td>7</td>\n",
       "      <td>10200000.0</td>\n",
       "      <td>14126</td>\n",
       "      <td>1</td>\n",
       "      <td>2</td>\n",
       "      <td>1368</td>\n",
       "      <td>5</td>\n",
       "      <td>2</td>\n",
       "      <td>2018</td>\n",
       "    </tr>\n",
       "  </tbody>\n",
       "</table>\n",
       "</div>"
      ],
      "text/plain": [
       "   car_name  car_price_in_rupee  kms_driven  fuel_type  ownership  engine  \\\n",
       "0         3           1003000.0       86226          0          0    1956   \n",
       "1         4           1283000.0       13248          1          0    1330   \n",
       "2         6           6030000.0       60343          1          0    2494   \n",
       "3         2            943000.0       26216          1          1    1199   \n",
       "4         5             75000.0       69126          1          1    1199   \n",
       "5         1           1130000.0       49654          0          1    1197   \n",
       "6         0           7510000.0       43226          0          2    1498   \n",
       "7         7          10200000.0       14126          1          2    1368   \n",
       "\n",
       "   Seats  Company_name  manufacture year  \n",
       "0      5             3              2018  \n",
       "1      5             5              2018  \n",
       "2      5             0              2018  \n",
       "3      5             6              2018  \n",
       "4      5             1              2018  \n",
       "5      5             4              2018  \n",
       "6      5             0              2018  \n",
       "7      5             2              2018  "
      ]
     },
     "execution_count": 470,
     "metadata": {},
     "output_type": "execute_result"
    }
   ],
   "source": [
    "df"
   ]
  },
  {
   "cell_type": "markdown",
   "id": "88e1ef35-2c69-4f60-8291-cd39fa6731eb",
   "metadata": {},
   "source": [
    "# Outliers"
   ]
  },
  {
   "cell_type": "code",
   "execution_count": 471,
   "id": "5f205706-6ec2-4832-9478-c8ba1f956b37",
   "metadata": {},
   "outputs": [
    {
     "data": {
      "text/plain": [
       "(8, 9)"
      ]
     },
     "execution_count": 471,
     "metadata": {},
     "output_type": "execute_result"
    }
   ],
   "source": [
    "df.shape"
   ]
  },
  {
   "cell_type": "code",
   "execution_count": 472,
   "id": "f0ed8c57-4833-463c-adf4-cae0cfeeed3e",
   "metadata": {},
   "outputs": [
    {
     "data": {
      "text/html": [
       "<div>\n",
       "<style scoped>\n",
       "    .dataframe tbody tr th:only-of-type {\n",
       "        vertical-align: middle;\n",
       "    }\n",
       "\n",
       "    .dataframe tbody tr th {\n",
       "        vertical-align: top;\n",
       "    }\n",
       "\n",
       "    .dataframe thead th {\n",
       "        text-align: right;\n",
       "    }\n",
       "</style>\n",
       "<table border=\"1\" class=\"dataframe\">\n",
       "  <thead>\n",
       "    <tr style=\"text-align: right;\">\n",
       "      <th></th>\n",
       "      <th>car_name</th>\n",
       "      <th>car_price_in_rupee</th>\n",
       "      <th>kms_driven</th>\n",
       "      <th>fuel_type</th>\n",
       "      <th>ownership</th>\n",
       "      <th>engine</th>\n",
       "      <th>Seats</th>\n",
       "      <th>Company_name</th>\n",
       "      <th>manufacture year</th>\n",
       "    </tr>\n",
       "  </thead>\n",
       "  <tbody>\n",
       "    <tr>\n",
       "      <th>count</th>\n",
       "      <td>8.00000</td>\n",
       "      <td>8.000000e+00</td>\n",
       "      <td>8.000000</td>\n",
       "      <td>8.000000</td>\n",
       "      <td>8.000000</td>\n",
       "      <td>8.000000</td>\n",
       "      <td>8.0</td>\n",
       "      <td>8.000000</td>\n",
       "      <td>8.0</td>\n",
       "    </tr>\n",
       "    <tr>\n",
       "      <th>mean</th>\n",
       "      <td>3.50000</td>\n",
       "      <td>3.521750e+06</td>\n",
       "      <td>45270.625000</td>\n",
       "      <td>0.625000</td>\n",
       "      <td>0.875000</td>\n",
       "      <td>1530.125000</td>\n",
       "      <td>5.0</td>\n",
       "      <td>2.625000</td>\n",
       "      <td>2018.0</td>\n",
       "    </tr>\n",
       "    <tr>\n",
       "      <th>std</th>\n",
       "      <td>2.44949</td>\n",
       "      <td>3.824789e+06</td>\n",
       "      <td>26337.120804</td>\n",
       "      <td>0.517549</td>\n",
       "      <td>0.834523</td>\n",
       "      <td>464.150664</td>\n",
       "      <td>0.0</td>\n",
       "      <td>2.263846</td>\n",
       "      <td>0.0</td>\n",
       "    </tr>\n",
       "    <tr>\n",
       "      <th>min</th>\n",
       "      <td>0.00000</td>\n",
       "      <td>7.500000e+04</td>\n",
       "      <td>13248.000000</td>\n",
       "      <td>0.000000</td>\n",
       "      <td>0.000000</td>\n",
       "      <td>1197.000000</td>\n",
       "      <td>5.0</td>\n",
       "      <td>0.000000</td>\n",
       "      <td>2018.0</td>\n",
       "    </tr>\n",
       "    <tr>\n",
       "      <th>25%</th>\n",
       "      <td>1.75000</td>\n",
       "      <td>9.880000e+05</td>\n",
       "      <td>23193.500000</td>\n",
       "      <td>0.000000</td>\n",
       "      <td>0.000000</td>\n",
       "      <td>1199.000000</td>\n",
       "      <td>5.0</td>\n",
       "      <td>0.750000</td>\n",
       "      <td>2018.0</td>\n",
       "    </tr>\n",
       "    <tr>\n",
       "      <th>50%</th>\n",
       "      <td>3.50000</td>\n",
       "      <td>1.206500e+06</td>\n",
       "      <td>46440.000000</td>\n",
       "      <td>1.000000</td>\n",
       "      <td>1.000000</td>\n",
       "      <td>1349.000000</td>\n",
       "      <td>5.0</td>\n",
       "      <td>2.500000</td>\n",
       "      <td>2018.0</td>\n",
       "    </tr>\n",
       "    <tr>\n",
       "      <th>75%</th>\n",
       "      <td>5.25000</td>\n",
       "      <td>6.400000e+06</td>\n",
       "      <td>62538.750000</td>\n",
       "      <td>1.000000</td>\n",
       "      <td>1.250000</td>\n",
       "      <td>1612.500000</td>\n",
       "      <td>5.0</td>\n",
       "      <td>4.250000</td>\n",
       "      <td>2018.0</td>\n",
       "    </tr>\n",
       "    <tr>\n",
       "      <th>max</th>\n",
       "      <td>7.00000</td>\n",
       "      <td>1.020000e+07</td>\n",
       "      <td>86226.000000</td>\n",
       "      <td>1.000000</td>\n",
       "      <td>2.000000</td>\n",
       "      <td>2494.000000</td>\n",
       "      <td>5.0</td>\n",
       "      <td>6.000000</td>\n",
       "      <td>2018.0</td>\n",
       "    </tr>\n",
       "  </tbody>\n",
       "</table>\n",
       "</div>"
      ],
      "text/plain": [
       "       car_name  car_price_in_rupee    kms_driven  fuel_type  ownership  \\\n",
       "count   8.00000        8.000000e+00      8.000000   8.000000   8.000000   \n",
       "mean    3.50000        3.521750e+06  45270.625000   0.625000   0.875000   \n",
       "std     2.44949        3.824789e+06  26337.120804   0.517549   0.834523   \n",
       "min     0.00000        7.500000e+04  13248.000000   0.000000   0.000000   \n",
       "25%     1.75000        9.880000e+05  23193.500000   0.000000   0.000000   \n",
       "50%     3.50000        1.206500e+06  46440.000000   1.000000   1.000000   \n",
       "75%     5.25000        6.400000e+06  62538.750000   1.000000   1.250000   \n",
       "max     7.00000        1.020000e+07  86226.000000   1.000000   2.000000   \n",
       "\n",
       "            engine  Seats  Company_name  manufacture year  \n",
       "count     8.000000    8.0      8.000000               8.0  \n",
       "mean   1530.125000    5.0      2.625000            2018.0  \n",
       "std     464.150664    0.0      2.263846               0.0  \n",
       "min    1197.000000    5.0      0.000000            2018.0  \n",
       "25%    1199.000000    5.0      0.750000            2018.0  \n",
       "50%    1349.000000    5.0      2.500000            2018.0  \n",
       "75%    1612.500000    5.0      4.250000            2018.0  \n",
       "max    2494.000000    5.0      6.000000            2018.0  "
      ]
     },
     "execution_count": 472,
     "metadata": {},
     "output_type": "execute_result"
    }
   ],
   "source": [
    "df.describe()"
   ]
  },
  {
   "cell_type": "code",
   "execution_count": 473,
   "id": "931e0674-60ff-48d0-a20d-98107b235544",
   "metadata": {},
   "outputs": [],
   "source": [
    "import seaborn as sns\n",
    "import matplotlib.pyplot as plt"
   ]
  },
  {
   "cell_type": "code",
   "execution_count": 474,
   "id": "cc3eed7f-11c3-44bd-83b5-b91d7747b267",
   "metadata": {},
   "outputs": [
    {
     "data": {
      "image/png": "[encoded data removed]",
      "text/plain": [
       "<Figure size 400x300 with 1 Axes>"
      ]
     },
     "metadata": {},
     "output_type": "display_data"
    }
   ],
   "source": [
    "plt.figure(figsize=(4,3))\n",
    "sns.boxplot(x=\"engine\", data=df)\n",
    "plt.show()"
   ]
  },
  {
   "cell_type": "code",
   "execution_count": 475,
   "id": "c838a453-103b-47f6-b068-a3e733d4b420",
   "metadata": {},
   "outputs": [],
   "source": [
    "import numpy as np"
   ]
  },
  {
   "cell_type": "code",
   "execution_count": 476,
   "id": "bb276f27-7ddf-48b1-b632-7428cb318316",
   "metadata": {},
   "outputs": [],
   "source": [
    "q1 = np.quantile(df['engine'], 0.25)\n",
    "q3 = np.quantile(df['engine'],0.75)"
   ]
  },
  {
   "cell_type": "code",
   "execution_count": 477,
   "id": "449d4e3f-f88e-49c6-ba7e-18c00cd2fcd0",
   "metadata": {},
   "outputs": [],
   "source": [
    "iqr = q3 - q1"
   ]
  },
  {
   "cell_type": "code",
   "execution_count": 478,
   "id": "f5053567-22d6-4c82-92e6-e34b0a6e4060",
   "metadata": {},
   "outputs": [],
   "source": [
    "min_range = q1 - ( 1.5*iqr )\n",
    "max_range = q3 + ( 1.5*iqr )"
   ]
  },
  {
   "cell_type": "code",
   "execution_count": 479,
   "id": "ce94e79f-e7c2-457e-8c80-85dae46d583f",
   "metadata": {},
   "outputs": [
    {
     "data": {
      "text/plain": [
       "(578.75, 2232.75)"
      ]
     },
     "execution_count": 479,
     "metadata": {},
     "output_type": "execute_result"
    }
   ],
   "source": [
    "min_range , max_range"
   ]
  },
  {
   "cell_type": "code",
   "execution_count": 480,
   "id": "a808ea25-4966-472d-aa3d-9ee027a5206d",
   "metadata": {},
   "outputs": [
    {
     "data": {
      "text/plain": [
       "(7, 9)"
      ]
     },
     "execution_count": 480,
     "metadata": {},
     "output_type": "execute_result"
    }
   ],
   "source": [
    "df[df['engine']<=max_range].shape"
   ]
  },
  {
   "cell_type": "code",
   "execution_count": 481,
   "id": "ee0b7f22-5a54-4094-9efa-5f5f9e1d467e",
   "metadata": {},
   "outputs": [
    {
     "data": {
      "text/html": [
       "<div>\n",
       "<style scoped>\n",
       "    .dataframe tbody tr th:only-of-type {\n",
       "        vertical-align: middle;\n",
       "    }\n",
       "\n",
       "    .dataframe tbody tr th {\n",
       "        vertical-align: top;\n",
       "    }\n",
       "\n",
       "    .dataframe thead th {\n",
       "        text-align: right;\n",
       "    }\n",
       "</style>\n",
       "<table border=\"1\" class=\"dataframe\">\n",
       "  <thead>\n",
       "    <tr style=\"text-align: right;\">\n",
       "      <th></th>\n",
       "      <th>car_name</th>\n",
       "      <th>car_price_in_rupee</th>\n",
       "      <th>kms_driven</th>\n",
       "      <th>fuel_type</th>\n",
       "      <th>ownership</th>\n",
       "      <th>engine</th>\n",
       "      <th>Seats</th>\n",
       "      <th>Company_name</th>\n",
       "      <th>manufacture year</th>\n",
       "    </tr>\n",
       "  </thead>\n",
       "  <tbody>\n",
       "    <tr>\n",
       "      <th>0</th>\n",
       "      <td>3</td>\n",
       "      <td>1003000.0</td>\n",
       "      <td>86226</td>\n",
       "      <td>0</td>\n",
       "      <td>0</td>\n",
       "      <td>1956</td>\n",
       "      <td>5</td>\n",
       "      <td>3</td>\n",
       "      <td>2018</td>\n",
       "    </tr>\n",
       "    <tr>\n",
       "      <th>1</th>\n",
       "      <td>4</td>\n",
       "      <td>1283000.0</td>\n",
       "      <td>13248</td>\n",
       "      <td>1</td>\n",
       "      <td>0</td>\n",
       "      <td>1330</td>\n",
       "      <td>5</td>\n",
       "      <td>5</td>\n",
       "      <td>2018</td>\n",
       "    </tr>\n",
       "    <tr>\n",
       "      <th>3</th>\n",
       "      <td>2</td>\n",
       "      <td>943000.0</td>\n",
       "      <td>26216</td>\n",
       "      <td>1</td>\n",
       "      <td>1</td>\n",
       "      <td>1199</td>\n",
       "      <td>5</td>\n",
       "      <td>6</td>\n",
       "      <td>2018</td>\n",
       "    </tr>\n",
       "    <tr>\n",
       "      <th>4</th>\n",
       "      <td>5</td>\n",
       "      <td>75000.0</td>\n",
       "      <td>69126</td>\n",
       "      <td>1</td>\n",
       "      <td>1</td>\n",
       "      <td>1199</td>\n",
       "      <td>5</td>\n",
       "      <td>1</td>\n",
       "      <td>2018</td>\n",
       "    </tr>\n",
       "    <tr>\n",
       "      <th>5</th>\n",
       "      <td>1</td>\n",
       "      <td>1130000.0</td>\n",
       "      <td>49654</td>\n",
       "      <td>0</td>\n",
       "      <td>1</td>\n",
       "      <td>1197</td>\n",
       "      <td>5</td>\n",
       "      <td>4</td>\n",
       "      <td>2018</td>\n",
       "    </tr>\n",
       "    <tr>\n",
       "      <th>6</th>\n",
       "      <td>0</td>\n",
       "      <td>7510000.0</td>\n",
       "      <td>43226</td>\n",
       "      <td>0</td>\n",
       "      <td>2</td>\n",
       "      <td>1498</td>\n",
       "      <td>5</td>\n",
       "      <td>0</td>\n",
       "      <td>2018</td>\n",
       "    </tr>\n",
       "    <tr>\n",
       "      <th>7</th>\n",
       "      <td>7</td>\n",
       "      <td>10200000.0</td>\n",
       "      <td>14126</td>\n",
       "      <td>1</td>\n",
       "      <td>2</td>\n",
       "      <td>1368</td>\n",
       "      <td>5</td>\n",
       "      <td>2</td>\n",
       "      <td>2018</td>\n",
       "    </tr>\n",
       "  </tbody>\n",
       "</table>\n",
       "</div>"
      ],
      "text/plain": [
       "   car_name  car_price_in_rupee  kms_driven  fuel_type  ownership  engine  \\\n",
       "0         3           1003000.0       86226          0          0    1956   \n",
       "1         4           1283000.0       13248          1          0    1330   \n",
       "3         2            943000.0       26216          1          1    1199   \n",
       "4         5             75000.0       69126          1          1    1199   \n",
       "5         1           1130000.0       49654          0          1    1197   \n",
       "6         0           7510000.0       43226          0          2    1498   \n",
       "7         7          10200000.0       14126          1          2    1368   \n",
       "\n",
       "   Seats  Company_name  manufacture year  \n",
       "0      5             3              2018  \n",
       "1      5             5              2018  \n",
       "3      5             6              2018  \n",
       "4      5             1              2018  \n",
       "5      5             4              2018  \n",
       "6      5             0              2018  \n",
       "7      5             2              2018  "
      ]
     },
     "execution_count": 481,
     "metadata": {},
     "output_type": "execute_result"
    }
   ],
   "source": [
    "df[df['engine']<=max_range]"
   ]
  },
  {
   "cell_type": "code",
   "execution_count": 482,
   "id": "f092c5aa-4d0c-4fdb-a6ca-efd2ce2e31ed",
   "metadata": {},
   "outputs": [],
   "source": [
    "df = df[df['engine']<=max_range]"
   ]
  },
  {
   "cell_type": "markdown",
   "id": "13bcd4d4-22a1-4cfa-b6c1-1497109c4fd8",
   "metadata": {},
   "source": [
    "# Scalling Data"
   ]
  },
  {
   "cell_type": "code",
   "execution_count": 483,
   "id": "4de12e11-36f1-4567-bfe6-cbb2c6b1e572",
   "metadata": {},
   "outputs": [
    {
     "data": {
      "text/plain": [
       "array([[-0.06401844, -0.58578842,  1.68239683, -1.15470054, -1.32287566,\n",
       "         2.23201616,  0.        ,  0.        ,  0.        ],\n",
       "       [ 0.38411064, -0.50986795, -1.16571323,  0.8660254 , -1.32287566,\n",
       "        -0.24724742,  0.        ,  1.        ,  0.        ],\n",
       "       [-0.51214752, -0.6020571 , -0.65961151,  0.8660254 ,  0.        ,\n",
       "        -0.76607094,  0.        ,  1.5       ,  0.        ],\n",
       "       [ 0.83223972, -0.83741056,  1.01503568,  0.8660254 ,  0.        ,\n",
       "        -0.76607094,  0.        , -1.        ,  0.        ],\n",
       "       [-0.9602766 , -0.55135307,  0.25510256, -1.15470054,  0.        ,\n",
       "        -0.77399191,  0.        ,  0.5       ,  0.        ],\n",
       "       [-1.40840568,  1.17854914,  0.00423721, -1.15470054,  1.32287566,\n",
       "         0.41811405,  0.        , -1.5       ,  0.        ],\n",
       "       [ 1.72849788,  1.90792797, -1.13144755,  0.8660254 ,  1.32287566,\n",
       "        -0.09674899,  0.        , -0.5       ,  0.        ]])"
      ]
     },
     "execution_count": 483,
     "metadata": {},
     "output_type": "execute_result"
    }
   ],
   "source": [
    "ss = StandardScaler()\n",
    "ss.fit_transform(df)"
   ]
  },
  {
   "cell_type": "code",
   "execution_count": 484,
   "id": "4dc11fcb-1a9b-42d8-9d46-a37593ced3d2",
   "metadata": {},
   "outputs": [],
   "source": [
    "new_data = pd.DataFrame(ss.fit_transform(df), columns=df.columns)"
   ]
  },
  {
   "cell_type": "code",
   "execution_count": 485,
   "id": "2622be9a-a0c7-4d75-ace8-0853c99145e3",
   "metadata": {},
   "outputs": [
    {
     "data": {
      "text/html": [
       "<div>\n",
       "<style scoped>\n",
       "    .dataframe tbody tr th:only-of-type {\n",
       "        vertical-align: middle;\n",
       "    }\n",
       "\n",
       "    .dataframe tbody tr th {\n",
       "        vertical-align: top;\n",
       "    }\n",
       "\n",
       "    .dataframe thead th {\n",
       "        text-align: right;\n",
       "    }\n",
       "</style>\n",
       "<table border=\"1\" class=\"dataframe\">\n",
       "  <thead>\n",
       "    <tr style=\"text-align: right;\">\n",
       "      <th></th>\n",
       "      <th>car_name</th>\n",
       "      <th>car_price_in_rupee</th>\n",
       "      <th>kms_driven</th>\n",
       "      <th>fuel_type</th>\n",
       "      <th>ownership</th>\n",
       "      <th>engine</th>\n",
       "      <th>Seats</th>\n",
       "      <th>Company_name</th>\n",
       "      <th>manufacture year</th>\n",
       "    </tr>\n",
       "  </thead>\n",
       "  <tbody>\n",
       "    <tr>\n",
       "      <th>0</th>\n",
       "      <td>-0.064018</td>\n",
       "      <td>-0.585788</td>\n",
       "      <td>1.682397</td>\n",
       "      <td>-1.154701</td>\n",
       "      <td>-1.322876</td>\n",
       "      <td>2.232016</td>\n",
       "      <td>0.0</td>\n",
       "      <td>0.0</td>\n",
       "      <td>0.0</td>\n",
       "    </tr>\n",
       "    <tr>\n",
       "      <th>1</th>\n",
       "      <td>0.384111</td>\n",
       "      <td>-0.509868</td>\n",
       "      <td>-1.165713</td>\n",
       "      <td>0.866025</td>\n",
       "      <td>-1.322876</td>\n",
       "      <td>-0.247247</td>\n",
       "      <td>0.0</td>\n",
       "      <td>1.0</td>\n",
       "      <td>0.0</td>\n",
       "    </tr>\n",
       "    <tr>\n",
       "      <th>2</th>\n",
       "      <td>-0.512148</td>\n",
       "      <td>-0.602057</td>\n",
       "      <td>-0.659612</td>\n",
       "      <td>0.866025</td>\n",
       "      <td>0.000000</td>\n",
       "      <td>-0.766071</td>\n",
       "      <td>0.0</td>\n",
       "      <td>1.5</td>\n",
       "      <td>0.0</td>\n",
       "    </tr>\n",
       "    <tr>\n",
       "      <th>3</th>\n",
       "      <td>0.832240</td>\n",
       "      <td>-0.837411</td>\n",
       "      <td>1.015036</td>\n",
       "      <td>0.866025</td>\n",
       "      <td>0.000000</td>\n",
       "      <td>-0.766071</td>\n",
       "      <td>0.0</td>\n",
       "      <td>-1.0</td>\n",
       "      <td>0.0</td>\n",
       "    </tr>\n",
       "    <tr>\n",
       "      <th>4</th>\n",
       "      <td>-0.960277</td>\n",
       "      <td>-0.551353</td>\n",
       "      <td>0.255103</td>\n",
       "      <td>-1.154701</td>\n",
       "      <td>0.000000</td>\n",
       "      <td>-0.773992</td>\n",
       "      <td>0.0</td>\n",
       "      <td>0.5</td>\n",
       "      <td>0.0</td>\n",
       "    </tr>\n",
       "    <tr>\n",
       "      <th>5</th>\n",
       "      <td>-1.408406</td>\n",
       "      <td>1.178549</td>\n",
       "      <td>0.004237</td>\n",
       "      <td>-1.154701</td>\n",
       "      <td>1.322876</td>\n",
       "      <td>0.418114</td>\n",
       "      <td>0.0</td>\n",
       "      <td>-1.5</td>\n",
       "      <td>0.0</td>\n",
       "    </tr>\n",
       "    <tr>\n",
       "      <th>6</th>\n",
       "      <td>1.728498</td>\n",
       "      <td>1.907928</td>\n",
       "      <td>-1.131448</td>\n",
       "      <td>0.866025</td>\n",
       "      <td>1.322876</td>\n",
       "      <td>-0.096749</td>\n",
       "      <td>0.0</td>\n",
       "      <td>-0.5</td>\n",
       "      <td>0.0</td>\n",
       "    </tr>\n",
       "  </tbody>\n",
       "</table>\n",
       "</div>"
      ],
      "text/plain": [
       "   car_name  car_price_in_rupee  kms_driven  fuel_type  ownership    engine  \\\n",
       "0 -0.064018           -0.585788    1.682397  -1.154701  -1.322876  2.232016   \n",
       "1  0.384111           -0.509868   -1.165713   0.866025  -1.322876 -0.247247   \n",
       "2 -0.512148           -0.602057   -0.659612   0.866025   0.000000 -0.766071   \n",
       "3  0.832240           -0.837411    1.015036   0.866025   0.000000 -0.766071   \n",
       "4 -0.960277           -0.551353    0.255103  -1.154701   0.000000 -0.773992   \n",
       "5 -1.408406            1.178549    0.004237  -1.154701   1.322876  0.418114   \n",
       "6  1.728498            1.907928   -1.131448   0.866025   1.322876 -0.096749   \n",
       "\n",
       "   Seats  Company_name  manufacture year  \n",
       "0    0.0           0.0               0.0  \n",
       "1    0.0           1.0               0.0  \n",
       "2    0.0           1.5               0.0  \n",
       "3    0.0          -1.0               0.0  \n",
       "4    0.0           0.5               0.0  \n",
       "5    0.0          -1.5               0.0  \n",
       "6    0.0          -0.5               0.0  "
      ]
     },
     "execution_count": 485,
     "metadata": {},
     "output_type": "execute_result"
    }
   ],
   "source": [
    "new_data"
   ]
  }
 ],
 "metadata": {
  "kernelspec": {
   "display_name": "Python 3 (ipykernel)",
   "language": "python",
   "name": "python3"
  },
  "language_info": {
   "codemirror_mode": {
    "name": "ipython",
    "version": 3
   },
   "file_extension": ".py",
   "mimetype": "text/x-python",
   "name": "python",
   "nbconvert_exporter": "python",
   "pygments_lexer": "ipython3",
   "version": "3.12.4"
  }
 },
 "nbformat": 4,
 "nbformat_minor": 5
}
