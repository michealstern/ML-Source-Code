{
 "cells": [
  {
   "cell_type": "code",
   "execution_count": 35,
   "metadata": {},
   "outputs": [],
   "source": [
    "import matplotlib.pyplot as plt\n",
    "import numpy as np\n",
    "from matplotlib import style"
   ]
  },
  {
   "cell_type": "code",
   "execution_count": 37,
   "metadata": {},
   "outputs": [],
   "source": [
    "# Dataset of 'Indian Artificial Intelligence Production (IAIP) Class'\n",
    "\n",
    "#classes = [\"python\", \"R\", \"Artificial Intelligence\", \"Machine Learning\", \"Data Science\"]\n",
    "\n",
    "classes = [\"python\", \"R\", \"ML\", \"DS\"]\n",
    "class1_students = [30, 10, 20, 25, 10] # out of 100 student in each class\n",
    "class2_students = [40, 5, 20, 20, 10]\n",
    "class3_students = [35, 5, 30, 15, 15]\n"
   ]
  },
  {
   "cell_type": "code",
   "execution_count": null,
   "metadata": {},
   "outputs": [],
   "source": [
    "style.use(\"ggplot\")\n",
    "plt.figure(figsize=(16,9))\n",
    "plt.bar(classes, class1_students, width=0.2, align='edge', color='red',\n",
    "        edgecolor='m', linewidth=3, alpha=0.9, linestyle=\"-\", label=\"Class 1 Students\",\n",
    "        visible=False)"
   ]
  },
  {
   "cell_type": "code",
   "execution_count": null,
   "metadata": {},
   "outputs": [],
   "source": []
  }
 ],
 "metadata": {
  "kernelspec": {
   "display_name": "base",
   "language": "python",
   "name": "python3"
  },
  "language_info": {
   "codemirror_mode": {
    "name": "ipython",
    "version": 3
   },
   "file_extension": ".py",
   "mimetype": "text/x-python",
   "name": "python",
   "nbconvert_exporter": "python",
   "pygments_lexer": "ipython3",
   "version": "3.12.4"
  }
 },
 "nbformat": 4,
 "nbformat_minor": 2
}
