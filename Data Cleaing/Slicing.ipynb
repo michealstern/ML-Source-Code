{
 "cells": [
  {
   "cell_type": "code",
   "execution_count": 164,
   "id": "c5efdb6d-75d0-42b1-ac1e-5234483a1f18",
   "metadata": {},
   "outputs": [],
   "source": [
    "import pandas as pd"
   ]
  },
  {
   "cell_type": "code",
   "execution_count": 165,
   "id": "38fa1818-764e-4339-a091-eba8e15b6068",
   "metadata": {},
   "outputs": [
    {
     "data": {
      "text/html": [
       "<div>\n",
       "<style scoped>\n",
       "    .dataframe tbody tr th:only-of-type {\n",
       "        vertical-align: middle;\n",
       "    }\n",
       "\n",
       "    .dataframe tbody tr th {\n",
       "        vertical-align: top;\n",
       "    }\n",
       "\n",
       "    .dataframe thead th {\n",
       "        text-align: right;\n",
       "    }\n",
       "</style>\n",
       "<table border=\"1\" class=\"dataframe\">\n",
       "  <thead>\n",
       "    <tr style=\"text-align: right;\">\n",
       "      <th></th>\n",
       "      <th>car_name</th>\n",
       "    </tr>\n",
       "  </thead>\n",
       "  <tbody>\n",
       "    <tr>\n",
       "      <th>0</th>\n",
       "      <td>Jeep Compass 2.0 Langitude Option BSIV</td>\n",
       "    </tr>\n",
       "    <tr>\n",
       "      <th>1</th>\n",
       "      <td>Renault Duster RXZ Turbo CVT</td>\n",
       "    </tr>\n",
       "    <tr>\n",
       "      <th>2</th>\n",
       "      <td>BMW X1 sDrive 20d xLine</td>\n",
       "    </tr>\n",
       "    <tr>\n",
       "      <th>3</th>\n",
       "      <td>Toyota Camry 2.5 G</td>\n",
       "    </tr>\n",
       "    <tr>\n",
       "      <th>4</th>\n",
       "      <td>Honda WR-V VX Diesel</td>\n",
       "    </tr>\n",
       "  </tbody>\n",
       "</table>\n",
       "</div>"
      ],
      "text/plain": [
       "                                 car_name\n",
       "0  Jeep Compass 2.0 Langitude Option BSIV\n",
       "1            Renault Duster RXZ Turbo CVT\n",
       "2                 BMW X1 sDrive 20d xLine\n",
       "3                      Toyota Camry 2.5 G\n",
       "4                    Honda WR-V VX Diesel"
      ]
     },
     "execution_count": 165,
     "metadata": {},
     "output_type": "execute_result"
    }
   ],
   "source": [
    "data = {'car_name': ['Jeep Compass 2.0 Langitude Option BSIV', 'Renault Duster RXZ Turbo CVT', 'BMW X1 sDrive 20d xLine',\n",
    "                    'Toyota Camry 2.5 G', 'Honda WR-V VX Diesel', 'Maruti Baleno 1.2 Alpha', 'BMW 7 Series 730LD',\n",
    "                    'Jaguar XF 2.2 Litre Luxury']}\n",
    "df = pd.DataFrame(data)\n",
    "df.head()"
   ]
  },
  {
   "cell_type": "markdown",
   "id": "636654ae-f5af-4adc-9456-d50659981585",
   "metadata": {},
   "source": [
    "# Car_name"
   ]
  },
  {
   "cell_type": "code",
   "execution_count": 166,
   "id": "4cd64ab6-c09c-4bdd-a3dc-7fc4e6a6fe52",
   "metadata": {},
   "outputs": [
    {
     "data": {
      "text/plain": [
       "0    Jeep Compass 2.0 Langitude Option BSIV\n",
       "1              Renault Duster RXZ Turbo CVT\n",
       "2                   BMW X1 sDrive 20d xLine\n",
       "3                        Toyota Camry 2.5 G\n",
       "4                      Honda WR-V VX Diesel\n",
       "5                   Maruti Baleno 1.2 Alpha\n",
       "6                        BMW 7 Series 730LD\n",
       "7                Jaguar XF 2.2 Litre Luxury\n",
       "Name: car_name, dtype: object"
      ]
     },
     "execution_count": 166,
     "metadata": {},
     "output_type": "execute_result"
    }
   ],
   "source": [
    "df['car_name']"
   ]
  },
  {
   "cell_type": "code",
   "execution_count": 167,
   "id": "ffc45fbe-de90-45a1-b3d5-9df3bb3eebb4",
   "metadata": {},
   "outputs": [
    {
     "data": {
      "text/plain": [
       "'Jeep Compass 2.0 Langitude Option BSIV'"
      ]
     },
     "execution_count": 167,
     "metadata": {},
     "output_type": "execute_result"
    }
   ],
   "source": [
    "df['car_name'][0]"
   ]
  },
  {
   "cell_type": "code",
   "execution_count": 168,
   "id": "19a5adbe-e1c2-4ef6-b44b-395213ba00b3",
   "metadata": {},
   "outputs": [
    {
     "data": {
      "text/plain": [
       "4"
      ]
     },
     "execution_count": 168,
     "metadata": {},
     "output_type": "execute_result"
    }
   ],
   "source": [
    "x = df['car_name'][0]\n",
    "x.index(\" \")"
   ]
  },
  {
   "cell_type": "code",
   "execution_count": 169,
   "id": "54bb96ca-a4a4-4fd6-a41b-555e5293febb",
   "metadata": {},
   "outputs": [
    {
     "data": {
      "text/plain": [
       "'Jeep'"
      ]
     },
     "execution_count": 169,
     "metadata": {},
     "output_type": "execute_result"
    }
   ],
   "source": [
    "x[:x.index(\" \")]"
   ]
  },
  {
   "cell_type": "code",
   "execution_count": 170,
   "id": "8d7ed400-f534-48bb-86cb-ca6684b461b3",
   "metadata": {},
   "outputs": [],
   "source": [
    "# This function extracts the company name from a string x by taking all the characters before the first space (\" \").\n",
    "# The x.index(\" \") finds the index of the first space in the string.\n",
    "\n",
    "def company_name(x):\n",
    "    return x[:x.index(\" \")]"
   ]
  },
  {
   "cell_type": "code",
   "execution_count": 171,
   "id": "361fdd34-d74b-4c07-81ff-e945f6113fe2",
   "metadata": {},
   "outputs": [
    {
     "data": {
      "text/plain": [
       "0       Jeep\n",
       "1    Renault\n",
       "2        BMW\n",
       "3     Toyota\n",
       "4      Honda\n",
       "5     Maruti\n",
       "6        BMW\n",
       "7     Jaguar\n",
       "Name: car_name, dtype: object"
      ]
     },
     "execution_count": 171,
     "metadata": {},
     "output_type": "execute_result"
    }
   ],
   "source": [
    "df['car_name'].apply(company_name)"
   ]
  },
  {
   "cell_type": "code",
   "execution_count": 172,
   "id": "02ae0d15-4032-49ba-ada4-0601477648a3",
   "metadata": {},
   "outputs": [],
   "source": [
    "df['Company_name'] = df['car_name'].apply(company_name)"
   ]
  },
  {
   "cell_type": "code",
   "execution_count": 173,
   "id": "01d2d009-a6fa-44b7-8b54-0c2dbd8c91aa",
   "metadata": {},
   "outputs": [
    {
     "data": {
      "text/html": [
       "<div>\n",
       "<style scoped>\n",
       "    .dataframe tbody tr th:only-of-type {\n",
       "        vertical-align: middle;\n",
       "    }\n",
       "\n",
       "    .dataframe tbody tr th {\n",
       "        vertical-align: top;\n",
       "    }\n",
       "\n",
       "    .dataframe thead th {\n",
       "        text-align: right;\n",
       "    }\n",
       "</style>\n",
       "<table border=\"1\" class=\"dataframe\">\n",
       "  <thead>\n",
       "    <tr style=\"text-align: right;\">\n",
       "      <th></th>\n",
       "      <th>car_name</th>\n",
       "      <th>Company_name</th>\n",
       "    </tr>\n",
       "  </thead>\n",
       "  <tbody>\n",
       "    <tr>\n",
       "      <th>0</th>\n",
       "      <td>Jeep Compass 2.0 Langitude Option BSIV</td>\n",
       "      <td>Jeep</td>\n",
       "    </tr>\n",
       "    <tr>\n",
       "      <th>1</th>\n",
       "      <td>Renault Duster RXZ Turbo CVT</td>\n",
       "      <td>Renault</td>\n",
       "    </tr>\n",
       "    <tr>\n",
       "      <th>2</th>\n",
       "      <td>BMW X1 sDrive 20d xLine</td>\n",
       "      <td>BMW</td>\n",
       "    </tr>\n",
       "    <tr>\n",
       "      <th>3</th>\n",
       "      <td>Toyota Camry 2.5 G</td>\n",
       "      <td>Toyota</td>\n",
       "    </tr>\n",
       "    <tr>\n",
       "      <th>4</th>\n",
       "      <td>Honda WR-V VX Diesel</td>\n",
       "      <td>Honda</td>\n",
       "    </tr>\n",
       "  </tbody>\n",
       "</table>\n",
       "</div>"
      ],
      "text/plain": [
       "                                 car_name Company_name\n",
       "0  Jeep Compass 2.0 Langitude Option BSIV         Jeep\n",
       "1            Renault Duster RXZ Turbo CVT      Renault\n",
       "2                 BMW X1 sDrive 20d xLine          BMW\n",
       "3                      Toyota Camry 2.5 G       Toyota\n",
       "4                    Honda WR-V VX Diesel        Honda"
      ]
     },
     "execution_count": 173,
     "metadata": {},
     "output_type": "execute_result"
    }
   ],
   "source": [
    "df.head()"
   ]
  },
  {
   "cell_type": "code",
   "execution_count": 174,
   "id": "47069675-d0e1-43af-96b9-153740ef1068",
   "metadata": {},
   "outputs": [
    {
     "data": {
      "text/plain": [
       "'Compass 2.0 Langitude Option BSIV'"
      ]
     },
     "execution_count": 174,
     "metadata": {},
     "output_type": "execute_result"
    }
   ],
   "source": [
    "x[x.index(\" \")+1:]"
   ]
  },
  {
   "cell_type": "code",
   "execution_count": 175,
   "id": "56516d1a-63c4-49e1-9246-d9e89a8ac7ad",
   "metadata": {},
   "outputs": [],
   "source": [
    "# The expression x[x.index(\" \")+1:] takes the substring from the index just after the first space to the end of the string.\n",
    "\n",
    "def car_name(x):\n",
    "    return x[x.index(\" \")+1:]"
   ]
  },
  {
   "cell_type": "code",
   "execution_count": 176,
   "id": "911d0379-6dfa-4bc7-82e6-a107cb8af077",
   "metadata": {},
   "outputs": [],
   "source": [
    "df['car_name'] = df['car_name'].apply(car_name)"
   ]
  },
  {
   "cell_type": "code",
   "execution_count": 177,
   "id": "d82762c0-e2d3-48f3-b117-670f98d81e0a",
   "metadata": {},
   "outputs": [
    {
     "data": {
      "text/plain": [
       "0    2.0 Langitude Option BSIV\n",
       "1                RXZ Turbo CVT\n",
       "2             sDrive 20d xLine\n",
       "3                        2.5 G\n",
       "4                    VX Diesel\n",
       "5                    1.2 Alpha\n",
       "6                 Series 730LD\n",
       "7             2.2 Litre Luxury\n",
       "Name: car_name, dtype: object"
      ]
     },
     "execution_count": 177,
     "metadata": {},
     "output_type": "execute_result"
    }
   ],
   "source": [
    "df['car_name'].apply(car_name)"
   ]
  },
  {
   "cell_type": "code",
   "execution_count": 178,
   "id": "75bc1889-a9f0-4892-8946-e1e8779cdce5",
   "metadata": {},
   "outputs": [
    {
     "data": {
      "text/html": [
       "<div>\n",
       "<style scoped>\n",
       "    .dataframe tbody tr th:only-of-type {\n",
       "        vertical-align: middle;\n",
       "    }\n",
       "\n",
       "    .dataframe tbody tr th {\n",
       "        vertical-align: top;\n",
       "    }\n",
       "\n",
       "    .dataframe thead th {\n",
       "        text-align: right;\n",
       "    }\n",
       "</style>\n",
       "<table border=\"1\" class=\"dataframe\">\n",
       "  <thead>\n",
       "    <tr style=\"text-align: right;\">\n",
       "      <th></th>\n",
       "      <th>car_name</th>\n",
       "      <th>Company_name</th>\n",
       "    </tr>\n",
       "  </thead>\n",
       "  <tbody>\n",
       "    <tr>\n",
       "      <th>0</th>\n",
       "      <td>Compass 2.0 Langitude Option BSIV</td>\n",
       "      <td>Jeep</td>\n",
       "    </tr>\n",
       "    <tr>\n",
       "      <th>1</th>\n",
       "      <td>Duster RXZ Turbo CVT</td>\n",
       "      <td>Renault</td>\n",
       "    </tr>\n",
       "    <tr>\n",
       "      <th>2</th>\n",
       "      <td>X1 sDrive 20d xLine</td>\n",
       "      <td>BMW</td>\n",
       "    </tr>\n",
       "    <tr>\n",
       "      <th>3</th>\n",
       "      <td>Camry 2.5 G</td>\n",
       "      <td>Toyota</td>\n",
       "    </tr>\n",
       "    <tr>\n",
       "      <th>4</th>\n",
       "      <td>WR-V VX Diesel</td>\n",
       "      <td>Honda</td>\n",
       "    </tr>\n",
       "  </tbody>\n",
       "</table>\n",
       "</div>"
      ],
      "text/plain": [
       "                            car_name Company_name\n",
       "0  Compass 2.0 Langitude Option BSIV         Jeep\n",
       "1               Duster RXZ Turbo CVT      Renault\n",
       "2                X1 sDrive 20d xLine          BMW\n",
       "3                        Camry 2.5 G       Toyota\n",
       "4                     WR-V VX Diesel        Honda"
      ]
     },
     "execution_count": 178,
     "metadata": {},
     "output_type": "execute_result"
    }
   ],
   "source": [
    "df.head()"
   ]
  },
  {
   "cell_type": "code",
   "execution_count": null,
   "id": "d43ea6af-2fa8-4a00-9800-f0c634a94d13",
   "metadata": {},
   "outputs": [],
   "source": []
  }
 ],
 "metadata": {
  "kernelspec": {
   "display_name": "Python 3 (ipykernel)",
   "language": "python",
   "name": "python3"
  },
  "language_info": {
   "codemirror_mode": {
    "name": "ipython",
    "version": 3
   },
   "file_extension": ".py",
   "mimetype": "text/x-python",
   "name": "python",
   "nbconvert_exporter": "python",
   "pygments_lexer": "ipython3",
   "version": "3.12.4"
  }
 },
 "nbformat": 4,
 "nbformat_minor": 5
}
