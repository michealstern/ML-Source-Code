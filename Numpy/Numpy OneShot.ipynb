{
 "cells": [
  {
   "cell_type": "code",
   "execution_count": 1,
   "id": "50148a6c-70a7-4b73-86bd-a499dfab03e5",
   "metadata": {},
   "outputs": [],
   "source": [
    "import numpy as np"
   ]
  },
  {
   "cell_type": "markdown",
   "id": "e4af46b1-2b01-4ffa-93f0-464d93e558a6",
   "metadata": {
    "jp-MarkdownHeadingCollapsed": true
   },
   "source": [
    "# Dimensions"
   ]
  },
  {
   "cell_type": "code",
   "execution_count": 19,
   "id": "5b293955-6c86-4060-85f8-acc9963648d4",
   "metadata": {},
   "outputs": [
    {
     "name": "stdout",
     "output_type": "stream",
     "text": [
      "12\n",
      "Dimensions: 1\n"
     ]
    }
   ],
   "source": [
    "arr1 = np.array([10,11,12,13,14,15])\n",
    "print(arr1[2])\n",
    "print(\"Dimensions:\", arr1.ndim) "
   ]
  },
  {
   "cell_type": "code",
   "execution_count": 20,
   "id": "49227271-8422-447d-bba2-ef292f1c2420",
   "metadata": {},
   "outputs": [
    {
     "name": "stdout",
     "output_type": "stream",
     "text": [
      "25\n",
      "Dimensions: 2\n"
     ]
    }
   ],
   "source": [
    "# 2D Array.\n",
    "# np.array(arr[row,column])\n",
    "\n",
    "arr2 = np.array([\n",
    "    [12,13,14,15,16], \n",
    "    [22,23,24,25,26]\n",
    "])\n",
    "\n",
    "print(arr2[1, 3])\n",
    "print(\"Dimensions:\", arr2.ndim) "
   ]
  },
  {
   "cell_type": "code",
   "execution_count": 75,
   "id": "553d6b65-3393-4d93-bbb2-026f2067cdbb",
   "metadata": {},
   "outputs": [
    {
     "name": "stdout",
     "output_type": "stream",
     "text": [
      "[[  1   2   3   4   5   6   7   8   9  10]\n",
      " [ 11  12  13  14  15  16  17  18  19  20]\n",
      " [ 21  22  23  24  25  26  27  28  29  30]\n",
      " [ 31  32  33  34  35  36  37  38  39  40]\n",
      " [ 41  42  43  44  45  46  47  48  49  50]\n",
      " [ 51  52  53  54  55  56  57  58  59  60]\n",
      " [ 61  62  63  64  65  66  67  68  69  70]\n",
      " [ 71  72  73  74  75  76  77  78  79  80]\n",
      " [ 81  82  83  84  85  86  87  88  89  90]\n",
      " [ 91  92  93  94  95  96  97  98  99 100]]\n",
      "Dimensions: 2\n"
     ]
    }
   ],
   "source": [
    "arr1 = np.arange(1,101).reshape(10,10)\n",
    "print(arr1)\n",
    "print(\"Dimensions:\", arr1.ndim) "
   ]
  },
  {
   "cell_type": "code",
   "execution_count": 77,
   "id": "5553a9ba-fdaa-4c37-9e6f-0828c2de5cb3",
   "metadata": {},
   "outputs": [
    {
     "name": "stdout",
     "output_type": "stream",
     "text": [
      "[[38 39]\n",
      " [48 49]]\n"
     ]
    }
   ],
   "source": [
    "# arr1[row1:row2 , col1:col2]\n",
    "print(arr1[3:5 , 7:9])"
   ]
  },
  {
   "cell_type": "code",
   "execution_count": 21,
   "id": "9819fdc7-1405-452a-b209-5920e5a7b900",
   "metadata": {},
   "outputs": [
    {
     "name": "stdout",
     "output_type": "stream",
     "text": [
      "24\n",
      "Dimensions: 3\n",
      "Shape: (1, 3, 5)\n"
     ]
    }
   ],
   "source": [
    "# 3D Array.\n",
    "# np.array(arr[Block, row, column])\n",
    "\n",
    "arr3 = np.array([\n",
    "    [  # Block 0\n",
    "        [12,13,14,15,16], \n",
    "        [17,18,19,20,21],\n",
    "        [22,23,24,25,26]\n",
    "    ]\n",
    "])\n",
    "\n",
    "print(arr3[0, 2, 2])\n",
    "print(\"Dimensions:\", arr3.ndim) \n",
    "print(\"Shape:\", arr3.shape) "
   ]
  },
  {
   "cell_type": "code",
   "execution_count": 22,
   "id": "503f8ec1-6b58-4214-bc35-251b15d7eeec",
   "metadata": {},
   "outputs": [
    {
     "name": "stdout",
     "output_type": "stream",
     "text": [
      "28\n",
      "Dimensions: 3\n",
      "Shape: (2, 3, 3)\n"
     ]
    }
   ],
   "source": [
    "arr3 = np.array([\n",
    "    [  # Block 0\n",
    "        [11, 12, 13],   # Row 0\n",
    "        [14, 15, 16],   # Row 1\n",
    "        [17, 18, 19]    # Row 2\n",
    "    ],\n",
    "    [  # Block 1\n",
    "        [21, 22, 23],   # Row 0\n",
    "        [24, 25, 26],   # Row 1\n",
    "        [27, 28, 29]    # Row 2\n",
    "    ]\n",
    "])\n",
    "print(arr3[1, 2, 1])  \n",
    "print(\"Dimensions:\", arr3.ndim)\n",
    "print(\"Shape:\", arr3.shape) "
   ]
  },
  {
   "cell_type": "code",
   "execution_count": 25,
   "id": "50f0ff63-b1df-4230-ac2d-8cc08aa345ae",
   "metadata": {},
   "outputs": [
    {
     "name": "stdout",
     "output_type": "stream",
     "text": [
      "11\n",
      "Dimensions: 4\n"
     ]
    }
   ],
   "source": [
    "# 4D Array\n",
    "# np.array(arr[Block, row, column, elements])\n",
    "\n",
    "arr_4d = np.array([\n",
    "    [  # Block 0\n",
    "        [[1, 2], [3, 4]],     # Row 0 (2 columns)\n",
    "        [[5, 6], [7, 8]]      # Row 1 (2 columns)\n",
    "    ],\n",
    "    [  # Block 1\n",
    "        [[9, 10], [11, 12]],\n",
    "        [[13, 14], [15, 16]]\n",
    "    ]\n",
    "])\n",
    "\n",
    "print(arr_4d[1, 0, 1, 0])\n",
    "print(\"Dimensions:\", arr_4d.ndim) "
   ]
  },
  {
   "cell_type": "code",
   "execution_count": 26,
   "id": "0cedd42f-699e-4808-b68c-2a06e9c86df2",
   "metadata": {},
   "outputs": [
    {
     "name": "stdout",
     "output_type": "stream",
     "text": [
      "Dimensions: 5\n"
     ]
    }
   ],
   "source": [
    "# 5D\n",
    "\n",
    "arr5 = np.array([[[[[12,23,34,45,56,78,89]]]]])\n",
    "print(\"Dimensions:\", arr5.ndim) "
   ]
  },
  {
   "cell_type": "markdown",
   "id": "3da04df6-49d5-4b4d-a836-d6af531b2806",
   "metadata": {
    "jp-MarkdownHeadingCollapsed": true
   },
   "source": [
    "# Array Calculation"
   ]
  },
  {
   "cell_type": "code",
   "execution_count": 31,
   "id": "1062c46f-4001-4c1a-ac6b-3fb6e8ef8ecb",
   "metadata": {},
   "outputs": [
    {
     "name": "stdout",
     "output_type": "stream",
     "text": [
      "[34 36 38 40 42]\n",
      "[ 70 120]\n"
     ]
    }
   ],
   "source": [
    "# axis = 0 ---> Columns\n",
    "# axis = 1 ---> Rows\n",
    "\n",
    "arr2 = np.array([\n",
    "    [12,13,14,15,16], \n",
    "    [22,23,24,25,26]\n",
    "])\n",
    "\n",
    "print(np.sum(arr2, axis=0)) # Columns.\n",
    "print(np.sum(arr2, axis=1)) # Rows."
   ]
  },
  {
   "cell_type": "markdown",
   "id": "4b566b27-7049-46ce-bbc5-8f981d4bdcb6",
   "metadata": {
    "jp-MarkdownHeadingCollapsed": true
   },
   "source": [
    "# Slicing"
   ]
  },
  {
   "cell_type": "code",
   "execution_count": 39,
   "id": "fa987a02-bd1c-4700-89db-5e83debf7f43",
   "metadata": {},
   "outputs": [
    {
     "name": "stdout",
     "output_type": "stream",
     "text": [
      "[20 30 40]\n",
      "[10 20 30]\n",
      "[50 60]\n",
      "[40 50 60]\n",
      "[10 30 50]\n"
     ]
    }
   ],
   "source": [
    "# 1D Array\n",
    "# arr[start : end+1]\n",
    "\n",
    "arr_1d = np.array([10, 20, 30, 40, 50, 60])\n",
    "print(arr_1d[1:4])       \n",
    "print(arr_1d[:3])        \n",
    "print(arr_1d[-2:]) \n",
    "print(arr_1d[-3:])\n",
    "print(arr_1d[::2])"
   ]
  },
  {
   "cell_type": "code",
   "execution_count": 43,
   "id": "1bd1c815-966a-43c1-8e82-b04eb24acb68",
   "metadata": {},
   "outputs": [
    {
     "name": "stdout",
     "output_type": "stream",
     "text": [
      "[21 22 23]\n",
      "[32 33]\n"
     ]
    }
   ],
   "source": [
    "# 2D Array Slicing\n",
    "# arr[row, start:end+1]\n",
    "\n",
    "arr_2d = np.array([\n",
    "    [11, 12, 13],\n",
    "    [21, 22, 23],\n",
    "    [31, 32, 33]\n",
    "])\n",
    "\n",
    "print(arr_2d[1, :3])\n",
    "print(arr_2d[2, 1:])"
   ]
  },
  {
   "cell_type": "code",
   "execution_count": 45,
   "id": "64475995-c46f-49a5-b783-53a092893525",
   "metadata": {},
   "outputs": [
    {
     "name": "stdout",
     "output_type": "stream",
     "text": [
      "[10 11]\n"
     ]
    }
   ],
   "source": [
    "# 3D Array Slicing\n",
    "# arr_3d[Block, row, start:end+1]\n",
    "\n",
    "arr_3d = np.array([\n",
    "    [\n",
    "        [1, 2, 3],\n",
    "        [4, 5, 6]\n",
    "    ],\n",
    "    [\n",
    "        [7, 8, 9],\n",
    "        [10, 11, 12]\n",
    "    ]\n",
    "])\n",
    "\n",
    "print(arr_3d[1,1, :2])"
   ]
  },
  {
   "cell_type": "markdown",
   "id": "692a38d5-d6b8-4142-8a03-e8338c8d42da",
   "metadata": {
    "jp-MarkdownHeadingCollapsed": true
   },
   "source": [
    "# Shape"
   ]
  },
  {
   "cell_type": "code",
   "execution_count": 46,
   "id": "ef6e18d8-2521-4277-b35e-60c30bdd5122",
   "metadata": {},
   "outputs": [
    {
     "data": {
      "text/plain": [
       "(2, 4)"
      ]
     },
     "execution_count": 46,
     "metadata": {},
     "output_type": "execute_result"
    }
   ],
   "source": [
    "arr = np.array([\n",
    "    [1,2,3,4],\n",
    "    [1,2,3,4]\n",
    "])\n",
    "arr.shape"
   ]
  },
  {
   "cell_type": "code",
   "execution_count": 48,
   "id": "c6c6b7ad-9591-4ab2-8ab5-5132d95fff96",
   "metadata": {},
   "outputs": [
    {
     "data": {
      "text/plain": [
       "(1, 3, 4)"
      ]
     },
     "execution_count": 48,
     "metadata": {},
     "output_type": "execute_result"
    }
   ],
   "source": [
    "arr = np.array([\n",
    "    [\n",
    "        [1,2,3,4], \n",
    "        [4,3,2,1], \n",
    "        [1,2,3,4]\n",
    "    ]\n",
    "])\n",
    "arr.shape"
   ]
  },
  {
   "cell_type": "markdown",
   "id": "4e59432e-678e-4e44-9e6c-e38d387f12bf",
   "metadata": {
    "jp-MarkdownHeadingCollapsed": true
   },
   "source": [
    "# Joining Array"
   ]
  },
  {
   "cell_type": "code",
   "execution_count": 59,
   "id": "84fc7217-1ac1-4fe9-91d9-ddf0971df077",
   "metadata": {},
   "outputs": [
    {
     "name": "stdout",
     "output_type": "stream",
     "text": [
      "[ 1  2  3  4  5  6  7  8  9 10 11 12]\n"
     ]
    }
   ],
   "source": [
    "# 1D Array\n",
    "\n",
    "arr = np.array([1, 2, 3, 4])\n",
    "arr1 = np.array([5, 6, 7, 8])\n",
    "arr2 = np.array([9, 10, 11, 12])\n",
    "a = np.concatenate((arr, arr1, arr2))\n",
    "print(a)"
   ]
  },
  {
   "cell_type": "code",
   "execution_count": 63,
   "id": "7eb5fb37-ab78-4751-86ae-671f8bf60abf",
   "metadata": {},
   "outputs": [
    {
     "data": {
      "text/plain": [
       "array([[ 1,  2,  3, 10, 11, 12],\n",
       "       [ 4,  5,  6, 13, 14, 15]])"
      ]
     },
     "execution_count": 63,
     "metadata": {},
     "output_type": "execute_result"
    }
   ],
   "source": [
    "# 2D Array\n",
    "\n",
    "arr = np.array([[1,2,3], [4,5,6]])\n",
    "arr1 = np.array([[10,11,12], [13,14,15]])\n",
    "\n",
    "arr2 = np.concatenate((arr, arr1), axis=1)\n",
    "arr2"
   ]
  },
  {
   "cell_type": "markdown",
   "id": "6aa9825f-fe97-4e0e-bfbe-67924421cd7e",
   "metadata": {
    "jp-MarkdownHeadingCollapsed": true
   },
   "source": [
    "# Spliting Array"
   ]
  },
  {
   "cell_type": "code",
   "execution_count": 64,
   "id": "a6ae5f88-6c38-4719-8327-d2c3e33a392e",
   "metadata": {},
   "outputs": [
    {
     "data": {
      "text/plain": [
       "[array([1, 2]), array([3, 4]), array([5, 6])]"
      ]
     },
     "execution_count": 64,
     "metadata": {},
     "output_type": "execute_result"
    }
   ],
   "source": [
    "arr = np.array([1,2,3,4,5,6])\n",
    "\n",
    "newarr = np.array_split(arr, 3)\n",
    "newarr"
   ]
  },
  {
   "cell_type": "markdown",
   "id": "7cdbcd45-2fb1-4e52-a0af-afa28ace00e1",
   "metadata": {
    "jp-MarkdownHeadingCollapsed": true
   },
   "source": [
    "# ravel & flatten\n",
    "\n",
    "## converts multidimensional array into 1D array"
   ]
  },
  {
   "cell_type": "code",
   "execution_count": 66,
   "id": "20221040-e631-45ee-9092-120d51c0ab01",
   "metadata": {},
   "outputs": [
    {
     "name": "stdout",
     "output_type": "stream",
     "text": [
      "[[[ 1  2  3  4]\n",
      "  [ 5  6  7  8]\n",
      "  [ 9 10 11 12]]]\n",
      "Dimension is 3\n"
     ]
    }
   ],
   "source": [
    "arr = np.array([[[1,2,3,4], [5,6,7,8], [9,10,11,12]]])\n",
    "print(arr)\n",
    "print(\"Dimension is\", arr.ndim)"
   ]
  },
  {
   "cell_type": "code",
   "execution_count": 69,
   "id": "b8ced2fe-207d-4a2b-a471-e5c3d4f70d3c",
   "metadata": {},
   "outputs": [
    {
     "name": "stdout",
     "output_type": "stream",
     "text": [
      "[ 1  2  3  4  5  6  7  8  9 10 11 12]\n",
      "Now the new dimension is 1\n"
     ]
    }
   ],
   "source": [
    "new = arr.ravel()\n",
    "print(new)\n",
    "print(\"Now the new dimension is\" , new.ndim)"
   ]
  },
  {
   "cell_type": "code",
   "execution_count": 70,
   "id": "62137ddd-7260-4cfe-bbee-1b642c085b90",
   "metadata": {},
   "outputs": [
    {
     "name": "stdout",
     "output_type": "stream",
     "text": [
      "[ 1  2  3  4  5  6  7  8  9 10 11 12]\n",
      "Now the new dimension is 1\n"
     ]
    }
   ],
   "source": [
    "new = arr.flatten()\n",
    "print(new)\n",
    "print(\"Now the new dimension is\" , new.ndim)"
   ]
  },
  {
   "cell_type": "markdown",
   "id": "38426096-84a6-459d-abfc-838c30086629",
   "metadata": {
    "jp-MarkdownHeadingCollapsed": true
   },
   "source": [
    "# Unique Function"
   ]
  },
  {
   "cell_type": "code",
   "execution_count": 71,
   "id": "3bf149a9-45bc-4c8d-961e-148adf3e4bbc",
   "metadata": {},
   "outputs": [
    {
     "data": {
      "text/plain": [
       "array([ 2,  3,  4,  6, 12, 21, 22, 45, 54, 77])"
      ]
     },
     "execution_count": 71,
     "metadata": {},
     "output_type": "execute_result"
    }
   ],
   "source": [
    "arr = np.array([12,3,21,3,45,54,3,22,21,2,77,4,6,77,4])\n",
    "\n",
    "x = np.unique(arr)\n",
    "x"
   ]
  },
  {
   "cell_type": "markdown",
   "id": "fd4f38c7-a3c1-4450-98c9-11c9bed2ac49",
   "metadata": {
    "jp-MarkdownHeadingCollapsed": true
   },
   "source": [
    "# Delete"
   ]
  },
  {
   "cell_type": "code",
   "execution_count": 72,
   "id": "c87defd3-4a28-4a12-ad29-b7162ec1836b",
   "metadata": {},
   "outputs": [
    {
     "data": {
      "text/plain": [
       "array([12, 14, 15])"
      ]
     },
     "execution_count": 72,
     "metadata": {},
     "output_type": "execute_result"
    }
   ],
   "source": [
    "arr = np.array([12,13,14,15])\n",
    "d = np.delete(arr, [1])\n",
    "d"
   ]
  },
  {
   "cell_type": "code",
   "execution_count": 74,
   "id": "ce7335af-afc4-43de-b60d-eafc873e09fa",
   "metadata": {},
   "outputs": [
    {
     "data": {
      "text/plain": [
       "array([[ 1,  2,  3,  4,  5],\n",
       "       [ 6,  7,  8,  9, 10]])"
      ]
     },
     "execution_count": 74,
     "metadata": {},
     "output_type": "execute_result"
    }
   ],
   "source": [
    "x = np.array([[1,2,3,4,5], [4,32,1,4,5], [6,7,8,9,10]])\n",
    "\n",
    "y = np.delete(x, 1, axis=0)\n",
    "y"
   ]
  }
 ],
 "metadata": {
  "kernelspec": {
   "display_name": "Python 3 (ipykernel)",
   "language": "python",
   "name": "python3"
  },
  "language_info": {
   "codemirror_mode": {
    "name": "ipython",
    "version": 3
   },
   "file_extension": ".py",
   "mimetype": "text/x-python",
   "name": "python",
   "nbconvert_exporter": "python",
   "pygments_lexer": "ipython3",
   "version": "3.13.3"
  }
 },
 "nbformat": 4,
 "nbformat_minor": 5
}
